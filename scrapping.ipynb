{
 "cells": [
  {
   "cell_type": "code",
   "execution_count": 2,
   "id": "c32886a5",
   "metadata": {},
   "outputs": [],
   "source": [
    "import pandas as pd\n",
    "import snscrape.modules.twitter as sntwitter\n",
    "import itertools"
   ]
  },
  {
   "cell_type": "code",
   "execution_count": 10,
   "id": "5abde4f3",
   "metadata": {
    "scrolled": true
   },
   "outputs": [],
   "source": [
    "search = '\"data science\"'\n",
    "\n",
    "# the scraped tweets, this is a generator\n",
    "scraped_tweets = sntwitter.TwitterSearchScraper(search).get_items()\n",
    "\n",
    "# slicing the generator to keep only the first 100 tweets\n",
    "sliced_scraped_tweets = itertools.islice(scraped_tweets, 100)\n",
    "\n",
    "# convert to a DataFrame and keep only relevant columns\n",
    "df = pd.DataFrame(sliced_scraped_tweets)"
   ]
  },
  {
   "cell_type": "code",
   "execution_count": 7,
   "id": "8731fd5d",
   "metadata": {},
   "outputs": [
    {
     "data": {
      "text/plain": [
       "<generator object TwitterSearchScraper.get_items at 0x0000024289342890>"
      ]
     },
     "execution_count": 7,
     "metadata": {},
     "output_type": "execute_result"
    }
   ],
   "source": [
    "scraped_tweets"
   ]
  },
  {
   "cell_type": "code",
   "execution_count": 8,
   "id": "23ee855b",
   "metadata": {},
   "outputs": [
    {
     "data": {
      "text/plain": [
       "<itertools.islice at 0x24289348db0>"
      ]
     },
     "execution_count": 8,
     "metadata": {},
     "output_type": "execute_result"
    }
   ],
   "source": [
    "sliced_scraped_tweets"
   ]
  },
  {
   "cell_type": "code",
   "execution_count": 32,
   "id": "e5a617df",
   "metadata": {},
   "outputs": [
    {
     "data": {
      "text/plain": [
       "Index(['url', 'date', 'content', 'renderedContent', 'id', 'user', 'replyCount',\n",
       "       'retweetCount', 'likeCount', 'quoteCount', 'conversationId', 'lang',\n",
       "       'source', 'sourceUrl', 'sourceLabel', 'outlinks', 'tcooutlinks',\n",
       "       'media', 'retweetedTweet', 'quotedTweet', 'inReplyToTweetId',\n",
       "       'inReplyToUser', 'mentionedUsers', 'coordinates', 'place', 'hashtags',\n",
       "       'cashtags'],\n",
       "      dtype='object')"
      ]
     },
     "execution_count": 32,
     "metadata": {},
     "output_type": "execute_result"
    }
   ],
   "source": [
    "df.columns"
   ]
  },
  {
   "cell_type": "code",
   "execution_count": null,
   "id": "16a4bcb3",
   "metadata": {},
   "outputs": [],
   "source": []
  },
  {
   "cell_type": "code",
   "execution_count": 34,
   "id": "f6a107c7",
   "metadata": {
    "scrolled": true
   },
   "outputs": [
    {
     "data": {
      "text/html": [
       "<div>\n",
       "<style scoped>\n",
       "    .dataframe tbody tr th:only-of-type {\n",
       "        vertical-align: middle;\n",
       "    }\n",
       "\n",
       "    .dataframe tbody tr th {\n",
       "        vertical-align: top;\n",
       "    }\n",
       "\n",
       "    .dataframe thead th {\n",
       "        text-align: right;\n",
       "    }\n",
       "</style>\n",
       "<table border=\"1\" class=\"dataframe\">\n",
       "  <thead>\n",
       "    <tr style=\"text-align: right;\">\n",
       "      <th></th>\n",
       "      <th>url</th>\n",
       "      <th>date</th>\n",
       "      <th>content</th>\n",
       "      <th>renderedContent</th>\n",
       "      <th>id</th>\n",
       "      <th>user</th>\n",
       "      <th>replyCount</th>\n",
       "      <th>retweetCount</th>\n",
       "      <th>likeCount</th>\n",
       "      <th>quoteCount</th>\n",
       "      <th>...</th>\n",
       "      <th>media</th>\n",
       "      <th>retweetedTweet</th>\n",
       "      <th>quotedTweet</th>\n",
       "      <th>inReplyToTweetId</th>\n",
       "      <th>inReplyToUser</th>\n",
       "      <th>mentionedUsers</th>\n",
       "      <th>coordinates</th>\n",
       "      <th>place</th>\n",
       "      <th>hashtags</th>\n",
       "      <th>cashtags</th>\n",
       "    </tr>\n",
       "  </thead>\n",
       "  <tbody>\n",
       "    <tr>\n",
       "      <th>0</th>\n",
       "      <td>https://twitter.com/DataScienceDojo/status/158...</td>\n",
       "      <td>2022-10-19 17:17:54+00:00</td>\n",
       "      <td>Low Code Data Science is the Future - Low Code...</td>\n",
       "      <td>Low Code Data Science is the Future - Low Code...</td>\n",
       "      <td>1582783107283169286</td>\n",
       "      <td>{'username': 'DataScienceDojo', 'id': 13189852...</td>\n",
       "      <td>0</td>\n",
       "      <td>0</td>\n",
       "      <td>0</td>\n",
       "      <td>0</td>\n",
       "      <td>...</td>\n",
       "      <td>None</td>\n",
       "      <td>None</td>\n",
       "      <td>None</td>\n",
       "      <td>1.582779e+18</td>\n",
       "      <td>{'username': 'DataScienceDojo', 'id': 13189852...</td>\n",
       "      <td>None</td>\n",
       "      <td>None</td>\n",
       "      <td>None</td>\n",
       "      <td>None</td>\n",
       "      <td>None</td>\n",
       "    </tr>\n",
       "    <tr>\n",
       "      <th>1</th>\n",
       "      <td>https://twitter.com/stephenkolesh/status/15827...</td>\n",
       "      <td>2022-10-19 17:17:31+00:00</td>\n",
       "      <td>Moving forward I'm looking towards finding a w...</td>\n",
       "      <td>Moving forward I'm looking towards finding a w...</td>\n",
       "      <td>1582783013913767936</td>\n",
       "      <td>{'username': 'stephenkolesh', 'id': 1194918262...</td>\n",
       "      <td>0</td>\n",
       "      <td>0</td>\n",
       "      <td>0</td>\n",
       "      <td>0</td>\n",
       "      <td>...</td>\n",
       "      <td>None</td>\n",
       "      <td>None</td>\n",
       "      <td>None</td>\n",
       "      <td>1.582783e+18</td>\n",
       "      <td>{'username': 'stephenkolesh', 'id': 1194918262...</td>\n",
       "      <td>None</td>\n",
       "      <td>None</td>\n",
       "      <td>None</td>\n",
       "      <td>None</td>\n",
       "      <td>None</td>\n",
       "    </tr>\n",
       "    <tr>\n",
       "      <th>2</th>\n",
       "      <td>https://twitter.com/DataScienceDojo/status/158...</td>\n",
       "      <td>2022-10-19 17:17:18+00:00</td>\n",
       "      <td>Low Code No Code Development Platform – TechTa...</td>\n",
       "      <td>Low Code No Code Development Platform – TechTa...</td>\n",
       "      <td>1582782955835260929</td>\n",
       "      <td>{'username': 'DataScienceDojo', 'id': 13189852...</td>\n",
       "      <td>0</td>\n",
       "      <td>0</td>\n",
       "      <td>1</td>\n",
       "      <td>0</td>\n",
       "      <td>...</td>\n",
       "      <td>None</td>\n",
       "      <td>None</td>\n",
       "      <td>None</td>\n",
       "      <td>1.582779e+18</td>\n",
       "      <td>{'username': 'DataScienceDojo', 'id': 13189852...</td>\n",
       "      <td>None</td>\n",
       "      <td>None</td>\n",
       "      <td>None</td>\n",
       "      <td>None</td>\n",
       "      <td>None</td>\n",
       "    </tr>\n",
       "    <tr>\n",
       "      <th>3</th>\n",
       "      <td>https://twitter.com/DataSciSalon/status/158278...</td>\n",
       "      <td>2022-10-19 17:17:08+00:00</td>\n",
       "      <td>Are you ready to hear about #machinelearning u...</td>\n",
       "      <td>Are you ready to hear about #machinelearning u...</td>\n",
       "      <td>1582782914307452928</td>\n",
       "      <td>{'username': 'DataSciSalon', 'id': 82901872604...</td>\n",
       "      <td>0</td>\n",
       "      <td>0</td>\n",
       "      <td>0</td>\n",
       "      <td>0</td>\n",
       "      <td>...</td>\n",
       "      <td>None</td>\n",
       "      <td>None</td>\n",
       "      <td>None</td>\n",
       "      <td>NaN</td>\n",
       "      <td>None</td>\n",
       "      <td>[{'username': 'sudoincharge', 'id': 18310574, ...</td>\n",
       "      <td>None</td>\n",
       "      <td>None</td>\n",
       "      <td>[machinelearning, dataethics, datascience]</td>\n",
       "      <td>None</td>\n",
       "    </tr>\n",
       "    <tr>\n",
       "      <th>4</th>\n",
       "      <td>https://twitter.com/DataScienceDojo/status/158...</td>\n",
       "      <td>2022-10-19 17:16:54+00:00</td>\n",
       "      <td>Is Data Scientist still the Sexiest Job of the...</td>\n",
       "      <td>Is Data Scientist still the Sexiest Job of the...</td>\n",
       "      <td>1582782857768239104</td>\n",
       "      <td>{'username': 'DataScienceDojo', 'id': 13189852...</td>\n",
       "      <td>0</td>\n",
       "      <td>0</td>\n",
       "      <td>0</td>\n",
       "      <td>0</td>\n",
       "      <td>...</td>\n",
       "      <td>None</td>\n",
       "      <td>None</td>\n",
       "      <td>None</td>\n",
       "      <td>1.582779e+18</td>\n",
       "      <td>{'username': 'DataScienceDojo', 'id': 13189852...</td>\n",
       "      <td>None</td>\n",
       "      <td>None</td>\n",
       "      <td>None</td>\n",
       "      <td>None</td>\n",
       "      <td>None</td>\n",
       "    </tr>\n",
       "  </tbody>\n",
       "</table>\n",
       "<p>5 rows × 27 columns</p>\n",
       "</div>"
      ],
      "text/plain": [
       "                                                 url  \\\n",
       "0  https://twitter.com/DataScienceDojo/status/158...   \n",
       "1  https://twitter.com/stephenkolesh/status/15827...   \n",
       "2  https://twitter.com/DataScienceDojo/status/158...   \n",
       "3  https://twitter.com/DataSciSalon/status/158278...   \n",
       "4  https://twitter.com/DataScienceDojo/status/158...   \n",
       "\n",
       "                       date  \\\n",
       "0 2022-10-19 17:17:54+00:00   \n",
       "1 2022-10-19 17:17:31+00:00   \n",
       "2 2022-10-19 17:17:18+00:00   \n",
       "3 2022-10-19 17:17:08+00:00   \n",
       "4 2022-10-19 17:16:54+00:00   \n",
       "\n",
       "                                             content  \\\n",
       "0  Low Code Data Science is the Future - Low Code...   \n",
       "1  Moving forward I'm looking towards finding a w...   \n",
       "2  Low Code No Code Development Platform – TechTa...   \n",
       "3  Are you ready to hear about #machinelearning u...   \n",
       "4  Is Data Scientist still the Sexiest Job of the...   \n",
       "\n",
       "                                     renderedContent                   id  \\\n",
       "0  Low Code Data Science is the Future - Low Code...  1582783107283169286   \n",
       "1  Moving forward I'm looking towards finding a w...  1582783013913767936   \n",
       "2  Low Code No Code Development Platform – TechTa...  1582782955835260929   \n",
       "3  Are you ready to hear about #machinelearning u...  1582782914307452928   \n",
       "4  Is Data Scientist still the Sexiest Job of the...  1582782857768239104   \n",
       "\n",
       "                                                user  replyCount  \\\n",
       "0  {'username': 'DataScienceDojo', 'id': 13189852...           0   \n",
       "1  {'username': 'stephenkolesh', 'id': 1194918262...           0   \n",
       "2  {'username': 'DataScienceDojo', 'id': 13189852...           0   \n",
       "3  {'username': 'DataSciSalon', 'id': 82901872604...           0   \n",
       "4  {'username': 'DataScienceDojo', 'id': 13189852...           0   \n",
       "\n",
       "   retweetCount  likeCount  quoteCount  ...  media retweetedTweet quotedTweet  \\\n",
       "0             0          0           0  ...   None           None        None   \n",
       "1             0          0           0  ...   None           None        None   \n",
       "2             0          1           0  ...   None           None        None   \n",
       "3             0          0           0  ...   None           None        None   \n",
       "4             0          0           0  ...   None           None        None   \n",
       "\n",
       "  inReplyToTweetId                                      inReplyToUser  \\\n",
       "0     1.582779e+18  {'username': 'DataScienceDojo', 'id': 13189852...   \n",
       "1     1.582783e+18  {'username': 'stephenkolesh', 'id': 1194918262...   \n",
       "2     1.582779e+18  {'username': 'DataScienceDojo', 'id': 13189852...   \n",
       "3              NaN                                               None   \n",
       "4     1.582779e+18  {'username': 'DataScienceDojo', 'id': 13189852...   \n",
       "\n",
       "                                      mentionedUsers coordinates place  \\\n",
       "0                                               None        None  None   \n",
       "1                                               None        None  None   \n",
       "2                                               None        None  None   \n",
       "3  [{'username': 'sudoincharge', 'id': 18310574, ...        None  None   \n",
       "4                                               None        None  None   \n",
       "\n",
       "                                     hashtags cashtags  \n",
       "0                                        None     None  \n",
       "1                                        None     None  \n",
       "2                                        None     None  \n",
       "3  [machinelearning, dataethics, datascience]     None  \n",
       "4                                        None     None  \n",
       "\n",
       "[5 rows x 27 columns]"
      ]
     },
     "execution_count": 34,
     "metadata": {},
     "output_type": "execute_result"
    }
   ],
   "source": [
    "df.head(5)"
   ]
  },
  {
   "cell_type": "code",
   "execution_count": 5,
   "id": "7ec96dd8",
   "metadata": {
    "scrolled": true
   },
   "outputs": [
    {
     "data": {
      "text/plain": [
       "Index(['date', 'content'], dtype='object')"
      ]
     },
     "execution_count": 5,
     "metadata": {},
     "output_type": "execute_result"
    }
   ],
   "source": [
    "df.columns"
   ]
  },
  {
   "cell_type": "code",
   "execution_count": 71,
   "id": "81e5aef9",
   "metadata": {},
   "outputs": [
    {
     "name": "stderr",
     "output_type": "stream",
     "text": [
      "Error retrieving https://api.twitter.com/2/search/adaptive.json?include_profile_interstitial_type=1&include_blocking=1&include_blocked_by=1&include_followed_by=1&include_want_retweets=1&include_mute_edge=1&include_can_dm=1&include_can_media_tag=1&skip_status=1&cards_platform=Web-12&include_cards=1&include_ext_alt_text=true&include_quote_count=true&include_reply_count=1&tweet_mode=extended&include_entities=true&include_user_entities=true&include_ext_media_color=true&include_ext_media_availability=true&send_error_codes=true&simple_quoted_tweets=true&q=bjp+geocode%3A%2226.84631877156835%2C+80.94567423065841%2C+200km%22&tweet_search_mode=live&count=100&query_source=spelling_expansion_revert_click&pc=1&spelling_corrections=1&ext=mediaStats%2ChighlightedLabel: ConnectionError(MaxRetryError(\"HTTPSConnectionPool(host='api.twitter.com', port=443): Max retries exceeded with url: /2/search/adaptive.json?include_profile_interstitial_type=1&include_blocking=1&include_blocked_by=1&include_followed_by=1&include_want_retweets=1&include_mute_edge=1&include_can_dm=1&include_can_media_tag=1&skip_status=1&cards_platform=Web-12&include_cards=1&include_ext_alt_text=true&include_quote_count=true&include_reply_count=1&tweet_mode=extended&include_entities=true&include_user_entities=true&include_ext_media_color=true&include_ext_media_availability=true&send_error_codes=true&simple_quoted_tweets=true&q=bjp+geocode%3A%2226.84631877156835%2C+80.94567423065841%2C+200km%22&tweet_search_mode=live&count=100&query_source=spelling_expansion_revert_click&pc=1&spelling_corrections=1&ext=mediaStats%2ChighlightedLabel (Caused by NewConnectionError('<urllib3.connection.HTTPSConnection object at 0x0000024291DB1130>: Failed to establish a new connection: [Errno 11001] getaddrinfo failed'))\"))\n",
      "4 requests to https://api.twitter.com/2/search/adaptive.json?include_profile_interstitial_type=1&include_blocking=1&include_blocked_by=1&include_followed_by=1&include_want_retweets=1&include_mute_edge=1&include_can_dm=1&include_can_media_tag=1&skip_status=1&cards_platform=Web-12&include_cards=1&include_ext_alt_text=true&include_quote_count=true&include_reply_count=1&tweet_mode=extended&include_entities=true&include_user_entities=true&include_ext_media_color=true&include_ext_media_availability=true&send_error_codes=true&simple_quoted_tweets=true&q=bjp+geocode%3A%2226.84631877156835%2C+80.94567423065841%2C+200km%22&tweet_search_mode=live&count=100&query_source=spelling_expansion_revert_click&pc=1&spelling_corrections=1&ext=mediaStats%2ChighlightedLabel failed, giving up.\n"
     ]
    },
    {
     "ename": "ScraperException",
     "evalue": "4 requests to https://api.twitter.com/2/search/adaptive.json?include_profile_interstitial_type=1&include_blocking=1&include_blocked_by=1&include_followed_by=1&include_want_retweets=1&include_mute_edge=1&include_can_dm=1&include_can_media_tag=1&skip_status=1&cards_platform=Web-12&include_cards=1&include_ext_alt_text=true&include_quote_count=true&include_reply_count=1&tweet_mode=extended&include_entities=true&include_user_entities=true&include_ext_media_color=true&include_ext_media_availability=true&send_error_codes=true&simple_quoted_tweets=true&q=bjp+geocode%3A%2226.84631877156835%2C+80.94567423065841%2C+200km%22&tweet_search_mode=live&count=100&query_source=spelling_expansion_revert_click&pc=1&spelling_corrections=1&ext=mediaStats%2ChighlightedLabel failed, giving up.",
     "output_type": "error",
     "traceback": [
      "\u001b[1;31m---------------------------------------------------------------------------\u001b[0m",
      "\u001b[1;31mScraperException\u001b[0m                          Traceback (most recent call last)",
      "Input \u001b[1;32mIn [71]\u001b[0m, in \u001b[0;36m<cell line: 2>\u001b[1;34m()\u001b[0m\n\u001b[0;32m      1\u001b[0m uploc \u001b[38;5;241m=\u001b[39m \u001b[38;5;124m'\u001b[39m\u001b[38;5;124m26.84631877156835, 80.94567423065841, 200km\u001b[39m\u001b[38;5;124m'\u001b[39m\n\u001b[1;32m----> 2\u001b[0m df_up \u001b[38;5;241m=\u001b[39m \u001b[43mpd\u001b[49m\u001b[38;5;241;43m.\u001b[39;49m\u001b[43mDataFrame\u001b[49m\u001b[43m(\u001b[49m\u001b[43mitertools\u001b[49m\u001b[38;5;241;43m.\u001b[39;49m\u001b[43mislice\u001b[49m\u001b[43m(\u001b[49m\u001b[43msntwitter\u001b[49m\u001b[38;5;241;43m.\u001b[39;49m\u001b[43mTwitterSearchScraper\u001b[49m\u001b[43m(\u001b[49m\n\u001b[0;32m      3\u001b[0m \u001b[43m    \u001b[49m\u001b[38;5;124;43m'\u001b[39;49m\u001b[38;5;124;43mbjp geocode:\u001b[39;49m\u001b[38;5;124;43m\"\u001b[39;49m\u001b[38;5;132;43;01m{}\u001b[39;49;00m\u001b[38;5;124;43m\"\u001b[39;49m\u001b[38;5;124;43m'\u001b[39;49m\u001b[38;5;241;43m.\u001b[39;49m\u001b[43mformat\u001b[49m\u001b[43m(\u001b[49m\u001b[43muploc\u001b[49m\u001b[43m)\u001b[49m\u001b[43m)\u001b[49m\u001b[38;5;241;43m.\u001b[39;49m\u001b[43mget_items\u001b[49m\u001b[43m(\u001b[49m\u001b[43m)\u001b[49m\u001b[43m,\u001b[49m\u001b[43m \u001b[49m\u001b[38;5;241;43m10000\u001b[39;49m\u001b[43m)\u001b[49m\u001b[43m)\u001b[49m[[\u001b[38;5;124m'\u001b[39m\u001b[38;5;124mdate\u001b[39m\u001b[38;5;124m'\u001b[39m, \u001b[38;5;124m'\u001b[39m\u001b[38;5;124mcontent\u001b[39m\u001b[38;5;124m'\u001b[39m]]\n",
      "File \u001b[1;32m~\\anaconda3\\lib\\site-packages\\pandas\\core\\frame.py:710\u001b[0m, in \u001b[0;36mDataFrame.__init__\u001b[1;34m(self, data, index, columns, dtype, copy)\u001b[0m\n\u001b[0;32m    708\u001b[0m         data \u001b[38;5;241m=\u001b[39m np\u001b[38;5;241m.\u001b[39masarray(data)\n\u001b[0;32m    709\u001b[0m     \u001b[38;5;28;01melse\u001b[39;00m:\n\u001b[1;32m--> 710\u001b[0m         data \u001b[38;5;241m=\u001b[39m \u001b[38;5;28;43mlist\u001b[39;49m\u001b[43m(\u001b[49m\u001b[43mdata\u001b[49m\u001b[43m)\u001b[49m\n\u001b[0;32m    711\u001b[0m \u001b[38;5;28;01mif\u001b[39;00m \u001b[38;5;28mlen\u001b[39m(data) \u001b[38;5;241m>\u001b[39m \u001b[38;5;241m0\u001b[39m:\n\u001b[0;32m    712\u001b[0m     \u001b[38;5;28;01mif\u001b[39;00m is_dataclass(data[\u001b[38;5;241m0\u001b[39m]):\n",
      "File \u001b[1;32m~\\anaconda3\\lib\\site-packages\\snscrape\\modules\\twitter.py:680\u001b[0m, in \u001b[0;36mTwitterSearchScraper.get_items\u001b[1;34m(self)\u001b[0m\n\u001b[0;32m    677\u001b[0m \t\u001b[38;5;28;01mdel\u001b[39;00m params[\u001b[38;5;124m'\u001b[39m\u001b[38;5;124mtweet_search_mode\u001b[39m\u001b[38;5;124m'\u001b[39m]\n\u001b[0;32m    678\u001b[0m \t\u001b[38;5;28;01mdel\u001b[39;00m paginationParams[\u001b[38;5;124m'\u001b[39m\u001b[38;5;124mtweet_search_mode\u001b[39m\u001b[38;5;124m'\u001b[39m]\n\u001b[1;32m--> 680\u001b[0m \u001b[38;5;28;01mfor\u001b[39;00m obj \u001b[38;5;129;01min\u001b[39;00m \u001b[38;5;28mself\u001b[39m\u001b[38;5;241m.\u001b[39m_iter_api_data(\u001b[38;5;124m'\u001b[39m\u001b[38;5;124mhttps://api.twitter.com/2/search/adaptive.json\u001b[39m\u001b[38;5;124m'\u001b[39m, params, paginationParams, cursor \u001b[38;5;241m=\u001b[39m \u001b[38;5;28mself\u001b[39m\u001b[38;5;241m.\u001b[39m_cursor):\n\u001b[0;32m    681\u001b[0m \t\u001b[38;5;28;01myield from\u001b[39;00m \u001b[38;5;28mself\u001b[39m\u001b[38;5;241m.\u001b[39m_instructions_to_tweets(obj)\n",
      "File \u001b[1;32m~\\anaconda3\\lib\\site-packages\\snscrape\\modules\\twitter.py:369\u001b[0m, in \u001b[0;36m_TwitterAPIScraper._iter_api_data\u001b[1;34m(self, endpoint, params, paginationParams, cursor, direction)\u001b[0m\n\u001b[0;32m    367\u001b[0m \u001b[38;5;28;01mwhile\u001b[39;00m \u001b[38;5;28;01mTrue\u001b[39;00m:\n\u001b[0;32m    368\u001b[0m \t_logger\u001b[38;5;241m.\u001b[39minfo(\u001b[38;5;124mf\u001b[39m\u001b[38;5;124m'\u001b[39m\u001b[38;5;124mRetrieving scroll page \u001b[39m\u001b[38;5;132;01m{\u001b[39;00mcursor\u001b[38;5;132;01m}\u001b[39;00m\u001b[38;5;124m'\u001b[39m)\n\u001b[1;32m--> 369\u001b[0m \tobj \u001b[38;5;241m=\u001b[39m \u001b[38;5;28;43mself\u001b[39;49m\u001b[38;5;241;43m.\u001b[39;49m\u001b[43m_get_api_data\u001b[49m\u001b[43m(\u001b[49m\u001b[43mendpoint\u001b[49m\u001b[43m,\u001b[49m\u001b[43m \u001b[49m\u001b[43mreqParams\u001b[49m\u001b[43m)\u001b[49m\n\u001b[0;32m    370\u001b[0m \t\u001b[38;5;28;01myield\u001b[39;00m obj\n\u001b[0;32m    372\u001b[0m \t\u001b[38;5;66;03m# No data format test, just a hard and loud crash if anything's wrong :-)\u001b[39;00m\n",
      "File \u001b[1;32m~\\anaconda3\\lib\\site-packages\\snscrape\\modules\\twitter.py:339\u001b[0m, in \u001b[0;36m_TwitterAPIScraper._get_api_data\u001b[1;34m(self, endpoint, params)\u001b[0m\n\u001b[0;32m    337\u001b[0m \u001b[38;5;28;01mdef\u001b[39;00m \u001b[38;5;21m_get_api_data\u001b[39m(\u001b[38;5;28mself\u001b[39m, endpoint, params):\n\u001b[0;32m    338\u001b[0m \t\u001b[38;5;28mself\u001b[39m\u001b[38;5;241m.\u001b[39m_ensure_guest_token()\n\u001b[1;32m--> 339\u001b[0m \tr \u001b[38;5;241m=\u001b[39m \u001b[38;5;28;43mself\u001b[39;49m\u001b[38;5;241;43m.\u001b[39;49m\u001b[43m_get\u001b[49m\u001b[43m(\u001b[49m\u001b[43mendpoint\u001b[49m\u001b[43m,\u001b[49m\u001b[43m \u001b[49m\u001b[43mparams\u001b[49m\u001b[43m \u001b[49m\u001b[38;5;241;43m=\u001b[39;49m\u001b[43m \u001b[49m\u001b[43mparams\u001b[49m\u001b[43m,\u001b[49m\u001b[43m \u001b[49m\u001b[43mheaders\u001b[49m\u001b[43m \u001b[49m\u001b[38;5;241;43m=\u001b[39;49m\u001b[43m \u001b[49m\u001b[38;5;28;43mself\u001b[39;49m\u001b[38;5;241;43m.\u001b[39;49m\u001b[43m_apiHeaders\u001b[49m\u001b[43m,\u001b[49m\u001b[43m \u001b[49m\u001b[43mresponseOkCallback\u001b[49m\u001b[43m \u001b[49m\u001b[38;5;241;43m=\u001b[39;49m\u001b[43m \u001b[49m\u001b[38;5;28;43mself\u001b[39;49m\u001b[38;5;241;43m.\u001b[39;49m\u001b[43m_check_api_response\u001b[49m\u001b[43m)\u001b[49m\n\u001b[0;32m    340\u001b[0m \t\u001b[38;5;28;01mtry\u001b[39;00m:\n\u001b[0;32m    341\u001b[0m \t\tobj \u001b[38;5;241m=\u001b[39m r\u001b[38;5;241m.\u001b[39mjson()\n",
      "File \u001b[1;32m~\\anaconda3\\lib\\site-packages\\snscrape\\base.py:216\u001b[0m, in \u001b[0;36mScraper._get\u001b[1;34m(self, *args, **kwargs)\u001b[0m\n\u001b[0;32m    215\u001b[0m \u001b[38;5;28;01mdef\u001b[39;00m \u001b[38;5;21m_get\u001b[39m(\u001b[38;5;28mself\u001b[39m, \u001b[38;5;241m*\u001b[39margs, \u001b[38;5;241m*\u001b[39m\u001b[38;5;241m*\u001b[39mkwargs):\n\u001b[1;32m--> 216\u001b[0m \t\u001b[38;5;28;01mreturn\u001b[39;00m \u001b[38;5;28mself\u001b[39m\u001b[38;5;241m.\u001b[39m_request(\u001b[38;5;124m'\u001b[39m\u001b[38;5;124mGET\u001b[39m\u001b[38;5;124m'\u001b[39m, \u001b[38;5;241m*\u001b[39margs, \u001b[38;5;241m*\u001b[39m\u001b[38;5;241m*\u001b[39mkwargs)\n",
      "File \u001b[1;32m~\\anaconda3\\lib\\site-packages\\snscrape\\base.py:212\u001b[0m, in \u001b[0;36mScraper._request\u001b[1;34m(self, method, url, params, data, headers, timeout, responseOkCallback, allowRedirects)\u001b[0m\n\u001b[0;32m    210\u001b[0m \tmsg \u001b[38;5;241m=\u001b[39m \u001b[38;5;124mf\u001b[39m\u001b[38;5;124m'\u001b[39m\u001b[38;5;132;01m{\u001b[39;00m\u001b[38;5;28mself\u001b[39m\u001b[38;5;241m.\u001b[39m_retries \u001b[38;5;241m+\u001b[39m \u001b[38;5;241m1\u001b[39m\u001b[38;5;132;01m}\u001b[39;00m\u001b[38;5;124m requests to \u001b[39m\u001b[38;5;132;01m{\u001b[39;00mreq\u001b[38;5;241m.\u001b[39murl\u001b[38;5;132;01m}\u001b[39;00m\u001b[38;5;124m failed, giving up.\u001b[39m\u001b[38;5;124m'\u001b[39m\n\u001b[0;32m    211\u001b[0m \tlogger\u001b[38;5;241m.\u001b[39mfatal(msg)\n\u001b[1;32m--> 212\u001b[0m \t\u001b[38;5;28;01mraise\u001b[39;00m ScraperException(msg)\n\u001b[0;32m    213\u001b[0m \u001b[38;5;28;01mraise\u001b[39;00m \u001b[38;5;167;01mRuntimeError\u001b[39;00m(\u001b[38;5;124m'\u001b[39m\u001b[38;5;124mReached unreachable code\u001b[39m\u001b[38;5;124m'\u001b[39m)\n",
      "\u001b[1;31mScraperException\u001b[0m: 4 requests to https://api.twitter.com/2/search/adaptive.json?include_profile_interstitial_type=1&include_blocking=1&include_blocked_by=1&include_followed_by=1&include_want_retweets=1&include_mute_edge=1&include_can_dm=1&include_can_media_tag=1&skip_status=1&cards_platform=Web-12&include_cards=1&include_ext_alt_text=true&include_quote_count=true&include_reply_count=1&tweet_mode=extended&include_entities=true&include_user_entities=true&include_ext_media_color=true&include_ext_media_availability=true&send_error_codes=true&simple_quoted_tweets=true&q=bjp+geocode%3A%2226.84631877156835%2C+80.94567423065841%2C+200km%22&tweet_search_mode=live&count=100&query_source=spelling_expansion_revert_click&pc=1&spelling_corrections=1&ext=mediaStats%2ChighlightedLabel failed, giving up."
     ]
    }
   ],
   "source": [
    "uploc = '26.84631877156835, 80.94567423065841, 200km'\n",
    "df_up = pd.DataFrame(itertools.islice(sntwitter.TwitterSearchScraper(\n",
    "    'bjp geocode:\"{}\"'.format(uploc)).get_items(), 10000))[['date', 'content']]"
   ]
  },
  {
   "cell_type": "code",
   "execution_count": 65,
   "id": "e02e3f21",
   "metadata": {},
   "outputs": [],
   "source": [
    "dfup=df_up[df_up['content'].str.len() >200]"
   ]
  },
  {
   "cell_type": "code",
   "execution_count": 53,
   "id": "b36b2abc",
   "metadata": {},
   "outputs": [],
   "source": [
    "dfup.to_csv('adi.csv')"
   ]
  },
  {
   "cell_type": "code",
   "execution_count": 80,
   "id": "a49c589b",
   "metadata": {},
   "outputs": [
    {
     "data": {
      "text/html": [
       "<div>\n",
       "<style scoped>\n",
       "    .dataframe tbody tr th:only-of-type {\n",
       "        vertical-align: middle;\n",
       "    }\n",
       "\n",
       "    .dataframe tbody tr th {\n",
       "        vertical-align: top;\n",
       "    }\n",
       "\n",
       "    .dataframe thead th {\n",
       "        text-align: right;\n",
       "    }\n",
       "</style>\n",
       "<table border=\"1\" class=\"dataframe\">\n",
       "  <thead>\n",
       "    <tr style=\"text-align: right;\">\n",
       "      <th></th>\n",
       "      <th>date</th>\n",
       "      <th>content</th>\n",
       "    </tr>\n",
       "  </thead>\n",
       "  <tbody>\n",
       "    <tr>\n",
       "      <th>0</th>\n",
       "      <td>2022-10-19 18:16:24+00:00</td>\n",
       "      <td>@BakarKhod Yep, soon bjp will replace shivraj ...</td>\n",
       "    </tr>\n",
       "    <tr>\n",
       "      <th>1</th>\n",
       "      <td>2022-10-19 18:14:28+00:00</td>\n",
       "      <td>@BJP4MP कोरोना युद्धाओं को बेरोजगार किसने किया...</td>\n",
       "    </tr>\n",
       "    <tr>\n",
       "      <th>2</th>\n",
       "      <td>2022-10-19 18:09:25+00:00</td>\n",
       "      <td>बीजेपी वाले #रिमोट_वाला_खड़गे ट्रेंड करा रहे ह...</td>\n",
       "    </tr>\n",
       "    <tr>\n",
       "      <th>3</th>\n",
       "      <td>2022-10-19 18:01:26+00:00</td>\n",
       "      <td>सनतनियो  जहां जहां #कांग्रेस की सरकार है बहां ...</td>\n",
       "    </tr>\n",
       "    <tr>\n",
       "      <th>4</th>\n",
       "      <td>2022-10-19 17:50:23+00:00</td>\n",
       "      <td>आज राष्ट्रीय अध्यक्ष श्री @LalSinghArya जी ने ...</td>\n",
       "    </tr>\n",
       "    <tr>\n",
       "      <th>5</th>\n",
       "      <td>2022-10-19 17:38:54+00:00</td>\n",
       "      <td>@hindutva8550991 @ishivam0707 @pravindubey121 ...</td>\n",
       "    </tr>\n",
       "    <tr>\n",
       "      <th>6</th>\n",
       "      <td>2022-10-19 17:35:42+00:00</td>\n",
       "      <td>@DrMohanYadav51 @BJP4MP @BJP4India @ChouhanShi...</td>\n",
       "    </tr>\n",
       "    <tr>\n",
       "      <th>7</th>\n",
       "      <td>2022-10-19 17:35:42+00:00</td>\n",
       "      <td>@BaggaNeha @AmitShah @BJP4India Jay ho di</td>\n",
       "    </tr>\n",
       "    <tr>\n",
       "      <th>8</th>\n",
       "      <td>2022-10-19 17:34:47+00:00</td>\n",
       "      <td>@KumariDiya @BJP4Rajasthan @BJP4India Greeting...</td>\n",
       "    </tr>\n",
       "    <tr>\n",
       "      <th>9</th>\n",
       "      <td>2022-10-19 17:33:32+00:00</td>\n",
       "      <td>@KumariDiya @BJP4Rajasthan @BJP4India Jay ho</td>\n",
       "    </tr>\n",
       "  </tbody>\n",
       "</table>\n",
       "</div>"
      ],
      "text/plain": [
       "                       date                                            content\n",
       "0 2022-10-19 18:16:24+00:00  @BakarKhod Yep, soon bjp will replace shivraj ...\n",
       "1 2022-10-19 18:14:28+00:00  @BJP4MP कोरोना युद्धाओं को बेरोजगार किसने किया...\n",
       "2 2022-10-19 18:09:25+00:00  बीजेपी वाले #रिमोट_वाला_खड़गे ट्रेंड करा रहे ह...\n",
       "3 2022-10-19 18:01:26+00:00  सनतनियो  जहां जहां #कांग्रेस की सरकार है बहां ...\n",
       "4 2022-10-19 17:50:23+00:00  आज राष्ट्रीय अध्यक्ष श्री @LalSinghArya जी ने ...\n",
       "5 2022-10-19 17:38:54+00:00  @hindutva8550991 @ishivam0707 @pravindubey121 ...\n",
       "6 2022-10-19 17:35:42+00:00  @DrMohanYadav51 @BJP4MP @BJP4India @ChouhanShi...\n",
       "7 2022-10-19 17:35:42+00:00          @BaggaNeha @AmitShah @BJP4India Jay ho di\n",
       "8 2022-10-19 17:34:47+00:00  @KumariDiya @BJP4Rajasthan @BJP4India Greeting...\n",
       "9 2022-10-19 17:33:32+00:00       @KumariDiya @BJP4Rajasthan @BJP4India Jay ho"
      ]
     },
     "execution_count": 80,
     "metadata": {},
     "output_type": "execute_result"
    }
   ],
   "source": [
    "df_bhopal.head(10)"
   ]
  },
  {
   "cell_type": "code",
   "execution_count": 72,
   "id": "94902d23",
   "metadata": {},
   "outputs": [],
   "source": [
    "uploc = '26.84631877156835, 80.94567423065841, 200km'\n",
    "df_up = pd.DataFrame(itertools.islice(sntwitter.TwitterSearchScraper(\n",
    "    'bjp geocode:\"{}\"'.format(uploc)).get_items(), 10000))[['date', 'content']]"
   ]
  },
  {
   "cell_type": "code",
   "execution_count": null,
   "id": "91046f3b",
   "metadata": {},
   "outputs": [],
   "source": [
    "23.278812963311633, 77.41522279851637"
   ]
  },
  {
   "cell_type": "code",
   "execution_count": 78,
   "id": "17923fca",
   "metadata": {},
   "outputs": [],
   "source": [
    "delhiloc = '28.615622209204233, 77.20737179854396, 50km'\n",
    "df_delhi = pd.DataFrame(itertools.islice(sntwitter.TwitterSearchScraper(\n",
    "    'bjp geocode:\"{}\"'.format(delhiloc)).get_items(), 10000))[['date', 'content']]"
   ]
  },
  {
   "cell_type": "code",
   "execution_count": 77,
   "id": "e8a82d5a",
   "metadata": {},
   "outputs": [],
   "source": [
    "bhopalloc = '23.278812963311633, 77.41522279851637, 100km'\n",
    "df_bhopal = pd.DataFrame(itertools.islice(sntwitter.TwitterSearchScraper(\n",
    "    'bjp geocode:\"{}\"'.format(bhopalloc)).get_items(), 10000))[['date', 'content']]"
   ]
  },
  {
   "cell_type": "code",
   "execution_count": null,
   "id": "523053e3",
   "metadata": {},
   "outputs": [],
   "source": [
    "loc = '28.615622209204233, 77.20737179854396, 50km'\n",
    "df_delhi = pd.DataFrame(itertools.islice(sntwitter.TwitterSearchScraper(\n",
    "    'bjp geocode:\"{}\"'.format(delhiloc)).get_items(), 10000))[['date', 'content']]"
   ]
  },
  {
   "cell_type": "code",
   "execution_count": 76,
   "id": "590d232a",
   "metadata": {},
   "outputs": [],
   "source": [
    "df_up.to_csv('up.csv')\n"
   ]
  },
  {
   "cell_type": "code",
   "execution_count": 81,
   "id": "6ea04fa0",
   "metadata": {},
   "outputs": [],
   "source": [
    "df_bhopal.to_csv('bhopal.csv')"
   ]
  },
  {
   "cell_type": "code",
   "execution_count": 82,
   "id": "c388accf",
   "metadata": {},
   "outputs": [],
   "source": [
    "df_delhi.to_csv('delhi.csv')"
   ]
  }
 ],
 "metadata": {
  "kernelspec": {
   "display_name": "Python 3 (ipykernel)",
   "language": "python",
   "name": "python3"
  },
  "language_info": {
   "codemirror_mode": {
    "name": "ipython",
    "version": 3
   },
   "file_extension": ".py",
   "mimetype": "text/x-python",
   "name": "python",
   "nbconvert_exporter": "python",
   "pygments_lexer": "ipython3",
   "version": "3.9.12"
  }
 },
 "nbformat": 4,
 "nbformat_minor": 5
}
