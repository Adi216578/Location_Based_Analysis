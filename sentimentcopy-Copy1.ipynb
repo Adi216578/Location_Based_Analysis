{
 "cells": [
  {
   "cell_type": "code",
   "execution_count": 1,
   "id": "fc4566e8",
   "metadata": {},
   "outputs": [],
   "source": [
    "import pandas as pd\n",
    "import numpy as np\n",
    "import re\n",
    "import string\n",
    "import seaborn as sns\n",
    "import matplotlib.pyplot as plt"
   ]
  },
  {
   "cell_type": "code",
   "execution_count": 2,
   "id": "f247091d",
   "metadata": {},
   "outputs": [],
   "source": [
    "from nltk.corpus import stopwords\n",
    "from nltk.tokenize import word_tokenize\n",
    "from nltk.stem import PorterStemmer\n",
    "from nltk.stem import WordNetLemmatizer\n",
    "from sklearn.feature_extraction.text import TfidfVectorizer , CountVectorizer\n",
    "from sklearn.model_selection import train_test_split"
   ]
  },
  {
   "cell_type": "code",
   "execution_count": 3,
   "id": "9df43997",
   "metadata": {},
   "outputs": [],
   "source": [
    "from sklearn.metrics import accuracy_score , confusion_matrix , precision_score\n",
    "from sklearn.naive_bayes import MultinomialNB\n",
    "from sklearn.linear_model import LogisticRegression\n",
    "from sklearn.svm import SVC\n",
    "import warnings\n",
    "warnings.filterwarnings(\"ignore\")"
   ]
  },
  {
   "cell_type": "code",
   "execution_count": 4,
   "id": "1092a813",
   "metadata": {},
   "outputs": [
    {
     "name": "stderr",
     "output_type": "stream",
     "text": [
      "[nltk_data] Downloading package stopwords to C:\\Users\\Anshuman\n",
      "[nltk_data]     Vashishtha\\AppData\\Roaming\\nltk_data...\n",
      "[nltk_data]   Package stopwords is already up-to-date!\n",
      "[nltk_data] Downloading package punkt to C:\\Users\\Anshuman\n",
      "[nltk_data]     Vashishtha\\AppData\\Roaming\\nltk_data...\n",
      "[nltk_data]   Package punkt is already up-to-date!\n",
      "[nltk_data] Downloading package omw-1.4 to C:\\Users\\Anshuman\n",
      "[nltk_data]     Vashishtha\\AppData\\Roaming\\nltk_data...\n",
      "[nltk_data]   Package omw-1.4 is already up-to-date!\n",
      "[nltk_data] Downloading package wordnet to C:\\Users\\Anshuman\n",
      "[nltk_data]     Vashishtha\\AppData\\Roaming\\nltk_data...\n",
      "[nltk_data]   Package wordnet is already up-to-date!\n"
     ]
    },
    {
     "data": {
      "text/plain": [
       "True"
      ]
     },
     "execution_count": 4,
     "metadata": {},
     "output_type": "execute_result"
    }
   ],
   "source": [
    "import nltk \n",
    "nltk.download('stopwords')\n",
    "stop_words=set(stopwords.words('english'))\n",
    "stop_words.remove('not')\n",
    "nltk.download('punkt')\n",
    "nltk.download('omw-1.4')\n",
    "nltk.download('wordnet')"
   ]
  },
  {
   "cell_type": "code",
   "execution_count": 5,
   "id": "e13e3ef6",
   "metadata": {},
   "outputs": [],
   "source": [
    " df=pd.read_csv('delhi.csv')"
   ]
  },
  {
   "cell_type": "code",
   "execution_count": 7,
   "id": "d74ff59e",
   "metadata": {},
   "outputs": [],
   "source": [
    "df=df[df['content'].str.len()>200]"
   ]
  },
  {
   "cell_type": "code",
   "execution_count": 13,
   "id": "ad3e2764",
   "metadata": {},
   "outputs": [
    {
     "data": {
      "text/html": [
       "<div>\n",
       "<style scoped>\n",
       "    .dataframe tbody tr th:only-of-type {\n",
       "        vertical-align: middle;\n",
       "    }\n",
       "\n",
       "    .dataframe tbody tr th {\n",
       "        vertical-align: top;\n",
       "    }\n",
       "\n",
       "    .dataframe thead th {\n",
       "        text-align: right;\n",
       "    }\n",
       "</style>\n",
       "<table border=\"1\" class=\"dataframe\">\n",
       "  <thead>\n",
       "    <tr style=\"text-align: right;\">\n",
       "      <th></th>\n",
       "      <th>date</th>\n",
       "      <th>content</th>\n",
       "      <th>clean</th>\n",
       "    </tr>\n",
       "  </thead>\n",
       "  <tbody>\n",
       "    <tr>\n",
       "      <th>1</th>\n",
       "      <td>2022-10-19 18:31:32+00:00</td>\n",
       "      <td>દેશના વડાપ્રધાનશ્રી નરેન્દ્ર મોદી અને ગુજરાતના...</td>\n",
       "      <td>દેશના વડાપ્રધાનશ્રી નરેન્દ્ર મોદી અને ગુજરાતના...</td>\n",
       "    </tr>\n",
       "    <tr>\n",
       "      <th>2</th>\n",
       "      <td>2022-10-19 18:31:28+00:00</td>\n",
       "      <td>कांग्रेस ने अपना अध्यक्ष लोकतांत्रिक तरीके से ...</td>\n",
       "      <td>कांग्रेस ने अपना अध्यक्ष लोकतांत्रिक तरीके से ...</td>\n",
       "    </tr>\n",
       "    <tr>\n",
       "      <th>7</th>\n",
       "      <td>2022-10-19 18:30:26+00:00</td>\n",
       "      <td>सच ही कहा है सीखने की कोई उम्र नहीं होती @msis...</td>\n",
       "      <td>सच ही कहा है सीखने की कोई उम्र नहीं होती msiso...</td>\n",
       "    </tr>\n",
       "    <tr>\n",
       "      <th>8</th>\n",
       "      <td>2022-10-19 18:30:16+00:00</td>\n",
       "      <td>@FactsAnalyst @Dr_Uditraj @INCIndia कहने को तो...</td>\n",
       "      <td>factsanalyst druditraj incindia कहने को तो अध्...</td>\n",
       "    </tr>\n",
       "    <tr>\n",
       "      <th>11</th>\n",
       "      <td>2022-10-19 18:28:20+00:00</td>\n",
       "      <td>@ssr99 @sardesairajdeep @SupriyaShrinate Any s...</td>\n",
       "      <td>ssr99 sardesairajdeep supriyashrin song amp da...</td>\n",
       "    </tr>\n",
       "    <tr>\n",
       "      <th>...</th>\n",
       "      <td>...</td>\n",
       "      <td>...</td>\n",
       "      <td>...</td>\n",
       "    </tr>\n",
       "    <tr>\n",
       "      <th>9991</th>\n",
       "      <td>2022-10-16 04:45:38+00:00</td>\n",
       "      <td>@AnkushM18248414 @uthamkorekkana @AamAadmiPart...</td>\n",
       "      <td>ankushm18248414 uthamkorekkana aamaadmiparti h...</td>\n",
       "    </tr>\n",
       "    <tr>\n",
       "      <th>9994</th>\n",
       "      <td>2022-10-16 04:43:14+00:00</td>\n",
       "      <td>@shubhammontygoe @BJP4India @Bhupendraupbjp @J...</td>\n",
       "      <td>shubhammontygo bjp4india bhupendraupbjp jpsrat...</td>\n",
       "    </tr>\n",
       "    <tr>\n",
       "      <th>9995</th>\n",
       "      <td>2022-10-16 04:42:49+00:00</td>\n",
       "      <td>@BJP4India स्कूल हॉस्पिटल कितने बनवाए यह बताओ ...</td>\n",
       "      <td>bjp4india स्कूल हॉस्पिटल कितने बनवाए यह बताओ म...</td>\n",
       "    </tr>\n",
       "    <tr>\n",
       "      <th>9996</th>\n",
       "      <td>2022-10-16 04:42:32+00:00</td>\n",
       "      <td>@Himanshu_Aap_ @AAPNareshBalyan @AamAadmiParty...</td>\n",
       "      <td>himanshuaap aapnareshbalyan aamaadmiparti aapd...</td>\n",
       "    </tr>\n",
       "    <tr>\n",
       "      <th>9998</th>\n",
       "      <td>2022-10-16 04:42:06+00:00</td>\n",
       "      <td>वक्रतुण्ड महाकाय सूर्यकोटि समप्रभ।\\nनिर्विघ्नं...</td>\n",
       "      <td>वक्रतुण्ड महाकाय सूर्यकोटि समप्रभ। निर्विघ्नं ...</td>\n",
       "    </tr>\n",
       "  </tbody>\n",
       "</table>\n",
       "<p>3798 rows × 3 columns</p>\n",
       "</div>"
      ],
      "text/plain": [
       "                           date  \\\n",
       "1     2022-10-19 18:31:32+00:00   \n",
       "2     2022-10-19 18:31:28+00:00   \n",
       "7     2022-10-19 18:30:26+00:00   \n",
       "8     2022-10-19 18:30:16+00:00   \n",
       "11    2022-10-19 18:28:20+00:00   \n",
       "...                         ...   \n",
       "9991  2022-10-16 04:45:38+00:00   \n",
       "9994  2022-10-16 04:43:14+00:00   \n",
       "9995  2022-10-16 04:42:49+00:00   \n",
       "9996  2022-10-16 04:42:32+00:00   \n",
       "9998  2022-10-16 04:42:06+00:00   \n",
       "\n",
       "                                                content  \\\n",
       "1     દેશના વડાપ્રધાનશ્રી નરેન્દ્ર મોદી અને ગુજરાતના...   \n",
       "2     कांग्रेस ने अपना अध्यक्ष लोकतांत्रिक तरीके से ...   \n",
       "7     सच ही कहा है सीखने की कोई उम्र नहीं होती @msis...   \n",
       "8     @FactsAnalyst @Dr_Uditraj @INCIndia कहने को तो...   \n",
       "11    @ssr99 @sardesairajdeep @SupriyaShrinate Any s...   \n",
       "...                                                 ...   \n",
       "9991  @AnkushM18248414 @uthamkorekkana @AamAadmiPart...   \n",
       "9994  @shubhammontygoe @BJP4India @Bhupendraupbjp @J...   \n",
       "9995  @BJP4India स्कूल हॉस्पिटल कितने बनवाए यह बताओ ...   \n",
       "9996  @Himanshu_Aap_ @AAPNareshBalyan @AamAadmiParty...   \n",
       "9998  वक्रतुण्ड महाकाय सूर्यकोटि समप्रभ।\\nनिर्विघ्नं...   \n",
       "\n",
       "                                                  clean  \n",
       "1     દેશના વડાપ્રધાનશ્રી નરેન્દ્ર મોદી અને ગુજરાતના...  \n",
       "2     कांग्रेस ने अपना अध्यक्ष लोकतांत्रिक तरीके से ...  \n",
       "7     सच ही कहा है सीखने की कोई उम्र नहीं होती msiso...  \n",
       "8     factsanalyst druditraj incindia कहने को तो अध्...  \n",
       "11    ssr99 sardesairajdeep supriyashrin song amp da...  \n",
       "...                                                 ...  \n",
       "9991  ankushm18248414 uthamkorekkana aamaadmiparti h...  \n",
       "9994  shubhammontygo bjp4india bhupendraupbjp jpsrat...  \n",
       "9995  bjp4india स्कूल हॉस्पिटल कितने बनवाए यह बताओ म...  \n",
       "9996  himanshuaap aapnareshbalyan aamaadmiparti aapd...  \n",
       "9998  वक्रतुण्ड महाकाय सूर्यकोटि समप्रभ। निर्विघ्नं ...  \n",
       "\n",
       "[3798 rows x 3 columns]"
      ]
     },
     "execution_count": 13,
     "metadata": {},
     "output_type": "execute_result"
    }
   ],
   "source": [
    "df"
   ]
  },
  {
   "cell_type": "code",
   "execution_count": 9,
   "id": "dd503d87",
   "metadata": {},
   "outputs": [
    {
     "data": {
      "text/plain": [
       "Index(['sentiment', 'text', 'label'], dtype='object')"
      ]
     },
     "execution_count": 9,
     "metadata": {},
     "output_type": "execute_result"
    }
   ],
   "source": [
    "df.columns"
   ]
  },
  {
   "cell_type": "code",
   "execution_count": null,
   "id": "2d29f7c5",
   "metadata": {},
   "outputs": [],
   "source": [
    "# 2 for positive \n",
    "# 0 for negative"
   ]
  },
  {
   "cell_type": "code",
   "execution_count": 9,
   "id": "26ad226f",
   "metadata": {},
   "outputs": [],
   "source": [
    " df=df.drop('Unnamed: 0',axis=1)"
   ]
  },
  {
   "cell_type": "code",
   "execution_count": 10,
   "id": "cd244d78",
   "metadata": {},
   "outputs": [],
   "source": [
    "def preprocess_text(text):\n",
    "    text=text.lower()\n",
    "    #remove urls\n",
    "    text=re.sub(r\"http\\S+|www\\S+|https\\S+\", \"\",text,flags=re.MULTILINE)\n",
    "    text=text.translate(str.maketrans(\"\", \"\",string.punctuation))\n",
    "    text=re.sub(r'\\@\\w+|\\#', \"\",text)\n",
    "    text_tokens=word_tokenize(text)\n",
    "    fil_words=[word for word in text_tokens if word not in stop_words]\n",
    "    \n",
    "    #stemming\n",
    "    ps=PorterStemmer()\n",
    "    stem_words=[ps.stem(w) for w in fil_words]\n",
    "    \n",
    "    #lemmatizing\n",
    "    lemmatizer = WordNetLemmatizer()\n",
    "    lem_words=[lemmatizer.lemmatize(w, pos='a') for w in stem_words]\n",
    "    \n",
    "    return \" \".join(lem_words)\n",
    "    \n",
    "\n",
    "     "
   ]
  },
  {
   "cell_type": "code",
   "execution_count": 18,
   "id": "7afbb171",
   "metadata": {},
   "outputs": [],
   "source": [
    "from textblob import TextBlob\n",
    "def sentiment_analysis(tweet):\n",
    " def getSubjectivity(text):\n",
    "   return TextBlob(text).sentiment.subjectivity\n",
    "  \n",
    " #Create a function to get the polarity\n",
    " def getPolarity(text):\n",
    "   return TextBlob(text).sentiment.polarity\n",
    "  \n",
    " #Create two new columns ‘Subjectivity’ & ‘Polarity’\n",
    " tweet['TextBlob_Subjectivity'] = tweet['clean'].apply(getSubjectivity)\n",
    " tweet['TextBlob_Polarity'] = tweet['clean'].apply(getPolarity)\n",
    " def getAnalysis(score):\n",
    "  if score < 0:\n",
    "    return 'Negative'\n",
    "  elif score == 0:\n",
    "    return 'Neutral'\n",
    "  else:\n",
    "    return 'Positive'\n",
    " tweet ['TextBlob_Analysis'] = tweet  ['TextBlob_Polarity'].apply(getAnalysis )\n",
    " return tweet\n",
    "\n",
    "dfnew=sentiment_analysis(df)"
   ]
  },
  {
   "cell_type": "code",
   "execution_count": 19,
   "id": "f3f3baf0",
   "metadata": {},
   "outputs": [
    {
     "data": {
      "image/png": "[encoded data removed]",
      "text/plain": [
       "<Figure size 432x288 with 1 Axes>"
      ]
     },
     "metadata": {
      "needs_background": "light"
     },
     "output_type": "display_data"
    }
   ],
   "source": [
    "sns.countplot(dfnew.TextBlob_Analysis)\n",
    "plt.show()"
   ]
  },
  {
   "cell_type": "code",
   "execution_count": null,
   "id": "54ba8ffc",
   "metadata": {},
   "outputs": [],
   "source": []
  },
  {
   "cell_type": "code",
   "execution_count": null,
   "id": "a6713092",
   "metadata": {},
   "outputs": [],
   "source": []
  },
  {
   "cell_type": "code",
   "execution_count": 12,
   "id": "224a2299",
   "metadata": {},
   "outputs": [
    {
     "data": {
      "image/png": "[encoded data removed]",
      "text/plain": [
       "<Figure size 432x288 with 1 Axes>"
      ]
     },
     "metadata": {
      "needs_background": "light"
     },
     "output_type": "display_data"
    }
   ],
   "source": [
    "sns.countplot(df.label)\n",
    "plt.show()"
   ]
  },
  {
   "cell_type": "code",
   "execution_count": 13,
   "id": "d60595e8",
   "metadata": {},
   "outputs": [
    {
     "data": {
      "text/plain": [
       "2    26180\n",
       "0    14165\n",
       "1     9655\n",
       "Name: label, dtype: int64"
      ]
     },
     "execution_count": 13,
     "metadata": {},
     "output_type": "execute_result"
    }
   ],
   "source": [
    "df.label.value_counts()"
   ]
  },
  {
   "cell_type": "code",
   "execution_count": 11,
   "id": "52497c62",
   "metadata": {},
   "outputs": [],
   "source": [
    "df['clean']=df['content'].apply(preprocess_text);"
   ]
  },
  {
   "cell_type": "code",
   "execution_count": 9,
   "id": "662b1ef3",
   "metadata": {},
   "outputs": [
    {
     "data": {
      "text/plain": [
       "(40345, 3)"
      ]
     },
     "execution_count": 9,
     "metadata": {},
     "output_type": "execute_result"
    }
   ],
   "source": [
    "df.drop(df[(df['label']==1)].index, inplace=True,axis=0)\n",
    "df.head()\n",
    "df.shape"
   ]
  },
  {
   "cell_type": "code",
   "execution_count": 12,
   "id": "174a0a9d",
   "metadata": {},
   "outputs": [],
   "source": [
    "def get_n_grams(text,low_n,high_n,top_number):\n",
    "    \n",
    "    # create vocabulary\n",
    "    vec = CountVectorizer(ngram_range=(low_n,high_n)).fit(text)\n",
    "    B_O_G = vec.transform(text)\n",
    "    \n",
    "    # Get words Count\n",
    "    words_count = B_O_G.sum(axis=0)\n",
    "    \n",
    "    # create list of words counts\n",
    "    word_counts_list = np.array(words_count)[0].tolist()\n",
    "    \n",
    "    # create tuple of word and words count\n",
    "    data = [ (word ,word_counts_list[idx]) for word,idx in vec.vocabulary_.items() ]\n",
    "    \n",
    "    # sort words by count descending\n",
    "    sorted_data = sorted(data,key=lambda x:x[1] ,reverse=True)\n",
    "    sorted_data = sorted_data[:top_number]\n",
    "    new_s = []\n",
    "    for d , n in sorted_data:\n",
    "        new_s.append([d ,n])\n",
    "    \n",
    "    del vec , data ,B_O_G ,words_count,word_counts_list ,sorted_data\n",
    "    plt.figure(figsize=(10,5))\n",
    "    sns.barplot(data = pd.DataFrame(new_s,columns=['word','count']),x='word',y='count')\n",
    "    plt.xticks(rotation=90)\n",
    "    plt.show()\n",
    "    \n",
    "    return pd.DataFrame(new_s,columns=['word','count'])"
   ]
  },
  {
   "cell_type": "code",
   "execution_count": 14,
   "id": "0b247227",
   "metadata": {},
   "outputs": [
    {
     "data": {
      "image/png": "[encoded data removed]",
      "text/plain": [
       "<Figure size 720x360 with 1 Axes>"
      ]
     },
     "metadata": {
      "needs_background": "light"
     },
     "output_type": "display_data"
    },
    {
     "data": {
      "text/html": [
       "<div>\n",
       "<style scoped>\n",
       "    .dataframe tbody tr th:only-of-type {\n",
       "        vertical-align: middle;\n",
       "    }\n",
       "\n",
       "    .dataframe tbody tr th {\n",
       "        vertical-align: top;\n",
       "    }\n",
       "\n",
       "    .dataframe thead th {\n",
       "        text-align: right;\n",
       "    }\n",
       "</style>\n",
       "<table border=\"1\" class=\"dataframe\">\n",
       "  <thead>\n",
       "    <tr style=\"text-align: right;\">\n",
       "      <th></th>\n",
       "      <th>word</th>\n",
       "      <th>count</th>\n",
       "    </tr>\n",
       "  </thead>\n",
       "  <tbody>\n",
       "    <tr>\n",
       "      <th>0</th>\n",
       "      <td>bjp</td>\n",
       "      <td>2809</td>\n",
       "    </tr>\n",
       "    <tr>\n",
       "      <th>1</th>\n",
       "      <td>co</td>\n",
       "      <td>2311</td>\n",
       "    </tr>\n",
       "    <tr>\n",
       "      <th>2</th>\n",
       "      <td>https</td>\n",
       "      <td>2306</td>\n",
       "    </tr>\n",
       "    <tr>\n",
       "      <th>3</th>\n",
       "      <td>the</td>\n",
       "      <td>1549</td>\n",
       "    </tr>\n",
       "    <tr>\n",
       "      <th>4</th>\n",
       "      <td>bjp4india</td>\n",
       "      <td>1498</td>\n",
       "    </tr>\n",
       "    <tr>\n",
       "      <th>5</th>\n",
       "      <td>to</td>\n",
       "      <td>1479</td>\n",
       "    </tr>\n",
       "    <tr>\n",
       "      <th>6</th>\n",
       "      <td>of</td>\n",
       "      <td>1222</td>\n",
       "    </tr>\n",
       "    <tr>\n",
       "      <th>7</th>\n",
       "      <td>in</td>\n",
       "      <td>1101</td>\n",
       "    </tr>\n",
       "    <tr>\n",
       "      <th>8</th>\n",
       "      <td>is</td>\n",
       "      <td>1027</td>\n",
       "    </tr>\n",
       "    <tr>\n",
       "      <th>9</th>\n",
       "      <td>कर</td>\n",
       "      <td>954</td>\n",
       "    </tr>\n",
       "    <tr>\n",
       "      <th>10</th>\n",
       "      <td>and</td>\n",
       "      <td>891</td>\n",
       "    </tr>\n",
       "    <tr>\n",
       "      <th>11</th>\n",
       "      <td>पर</td>\n",
       "      <td>820</td>\n",
       "    </tr>\n",
       "    <tr>\n",
       "      <th>12</th>\n",
       "      <td>रह</td>\n",
       "      <td>820</td>\n",
       "    </tr>\n",
       "    <tr>\n",
       "      <th>13</th>\n",
       "      <td>और</td>\n",
       "      <td>744</td>\n",
       "    </tr>\n",
       "    <tr>\n",
       "      <th>14</th>\n",
       "      <td>नह</td>\n",
       "      <td>690</td>\n",
       "    </tr>\n",
       "    <tr>\n",
       "      <th>15</th>\n",
       "      <td>aap</td>\n",
       "      <td>638</td>\n",
       "    </tr>\n",
       "    <tr>\n",
       "      <th>16</th>\n",
       "      <td>hai</td>\n",
       "      <td>590</td>\n",
       "    </tr>\n",
       "    <tr>\n",
       "      <th>17</th>\n",
       "      <td>narendramodi</td>\n",
       "      <td>568</td>\n",
       "    </tr>\n",
       "    <tr>\n",
       "      <th>18</th>\n",
       "      <td>for</td>\n",
       "      <td>532</td>\n",
       "    </tr>\n",
       "    <tr>\n",
       "      <th>19</th>\n",
       "      <td>it</td>\n",
       "      <td>436</td>\n",
       "    </tr>\n",
       "  </tbody>\n",
       "</table>\n",
       "</div>"
      ],
      "text/plain": [
       "            word  count\n",
       "0            bjp   2809\n",
       "1             co   2311\n",
       "2          https   2306\n",
       "3            the   1549\n",
       "4      bjp4india   1498\n",
       "5             to   1479\n",
       "6             of   1222\n",
       "7             in   1101\n",
       "8             is   1027\n",
       "9             कर    954\n",
       "10           and    891\n",
       "11            पर    820\n",
       "12            रह    820\n",
       "13            और    744\n",
       "14            नह    690\n",
       "15           aap    638\n",
       "16           hai    590\n",
       "17  narendramodi    568\n",
       "18           for    532\n",
       "19            it    436"
      ]
     },
     "execution_count": 14,
     "metadata": {},
     "output_type": "execute_result"
    }
   ],
   "source": [
    "get_n_grams(df.content,1,1,20)"
   ]
  },
  {
   "cell_type": "code",
   "execution_count": 15,
   "id": "c2572e49",
   "metadata": {},
   "outputs": [
    {
     "data": {
      "image/png": "[encoded data removed]",
      "text/plain": [
       "<Figure size 720x360 with 1 Axes>"
      ]
     },
     "metadata": {
      "needs_background": "light"
     },
     "output_type": "display_data"
    },
    {
     "data": {
      "text/html": [
       "<div>\n",
       "<style scoped>\n",
       "    .dataframe tbody tr th:only-of-type {\n",
       "        vertical-align: middle;\n",
       "    }\n",
       "\n",
       "    .dataframe tbody tr th {\n",
       "        vertical-align: top;\n",
       "    }\n",
       "\n",
       "    .dataframe thead th {\n",
       "        text-align: right;\n",
       "    }\n",
       "</style>\n",
       "<table border=\"1\" class=\"dataframe\">\n",
       "  <thead>\n",
       "    <tr style=\"text-align: right;\">\n",
       "      <th></th>\n",
       "      <th>word</th>\n",
       "      <th>count</th>\n",
       "    </tr>\n",
       "  </thead>\n",
       "  <tbody>\n",
       "    <tr>\n",
       "      <th>0</th>\n",
       "      <td>https co</td>\n",
       "      <td>2306</td>\n",
       "    </tr>\n",
       "    <tr>\n",
       "      <th>1</th>\n",
       "      <td>अध यक</td>\n",
       "      <td>243</td>\n",
       "    </tr>\n",
       "    <tr>\n",
       "      <th>2</th>\n",
       "      <td>bjp4india bjp4delhi</td>\n",
       "      <td>164</td>\n",
       "    </tr>\n",
       "    <tr>\n",
       "      <th>3</th>\n",
       "      <td>कर रह</td>\n",
       "      <td>143</td>\n",
       "    </tr>\n",
       "    <tr>\n",
       "      <th>4</th>\n",
       "      <td>bjp4india https</td>\n",
       "      <td>131</td>\n",
       "    </tr>\n",
       "    <tr>\n",
       "      <th>5</th>\n",
       "      <td>in the</td>\n",
       "      <td>126</td>\n",
       "    </tr>\n",
       "    <tr>\n",
       "      <th>6</th>\n",
       "      <td>watch https</td>\n",
       "      <td>124</td>\n",
       "    </tr>\n",
       "    <tr>\n",
       "      <th>7</th>\n",
       "      <td>च_परम वर_सम</td>\n",
       "      <td>112</td>\n",
       "    </tr>\n",
       "    <tr>\n",
       "      <th>8</th>\n",
       "      <td>the bjp</td>\n",
       "      <td>111</td>\n",
       "    </tr>\n",
       "    <tr>\n",
       "      <th>9</th>\n",
       "      <td>वर_सम लन</td>\n",
       "      <td>111</td>\n",
       "    </tr>\n",
       "    <tr>\n",
       "      <th>10</th>\n",
       "      <td>of the</td>\n",
       "      <td>110</td>\n",
       "    </tr>\n",
       "    <tr>\n",
       "      <th>11</th>\n",
       "      <td>narendramodi amitshah</td>\n",
       "      <td>101</td>\n",
       "    </tr>\n",
       "    <tr>\n",
       "      <th>12</th>\n",
       "      <td>bjp is</td>\n",
       "      <td>97</td>\n",
       "    </tr>\n",
       "    <tr>\n",
       "      <th>13</th>\n",
       "      <td>भक मन</td>\n",
       "      <td>93</td>\n",
       "    </tr>\n",
       "    <tr>\n",
       "      <th>14</th>\n",
       "      <td>of bjp</td>\n",
       "      <td>91</td>\n",
       "    </tr>\n",
       "    <tr>\n",
       "      <th>15</th>\n",
       "      <td>bjp4delhi bjp4india</td>\n",
       "      <td>83</td>\n",
       "    </tr>\n",
       "    <tr>\n",
       "      <th>16</th>\n",
       "      <td>is the</td>\n",
       "      <td>73</td>\n",
       "    </tr>\n",
       "    <tr>\n",
       "      <th>17</th>\n",
       "      <td>it is</td>\n",
       "      <td>73</td>\n",
       "    </tr>\n",
       "    <tr>\n",
       "      <th>18</th>\n",
       "      <td>उम दव</td>\n",
       "      <td>72</td>\n",
       "    </tr>\n",
       "    <tr>\n",
       "      <th>19</th>\n",
       "      <td>for the</td>\n",
       "      <td>70</td>\n",
       "    </tr>\n",
       "  </tbody>\n",
       "</table>\n",
       "</div>"
      ],
      "text/plain": [
       "                     word  count\n",
       "0                https co   2306\n",
       "1                   अध यक    243\n",
       "2     bjp4india bjp4delhi    164\n",
       "3                   कर रह    143\n",
       "4         bjp4india https    131\n",
       "5                  in the    126\n",
       "6             watch https    124\n",
       "7             च_परम वर_सम    112\n",
       "8                 the bjp    111\n",
       "9                वर_सम लन    111\n",
       "10                 of the    110\n",
       "11  narendramodi amitshah    101\n",
       "12                 bjp is     97\n",
       "13                  भक मन     93\n",
       "14                 of bjp     91\n",
       "15    bjp4delhi bjp4india     83\n",
       "16                 is the     73\n",
       "17                  it is     73\n",
       "18                  उम दव     72\n",
       "19                for the     70"
      ]
     },
     "execution_count": 15,
     "metadata": {},
     "output_type": "execute_result"
    }
   ],
   "source": [
    "get_n_grams(df.content,2,2,20)"
   ]
  },
  {
   "cell_type": "code",
   "execution_count": 16,
   "id": "8ed4b653",
   "metadata": {},
   "outputs": [
    {
     "data": {
      "image/png": "[encoded data removed]",
      "text/plain": [
       "<Figure size 720x360 with 1 Axes>"
      ]
     },
     "metadata": {
      "needs_background": "light"
     },
     "output_type": "display_data"
    },
    {
     "data": {
      "text/html": [
       "<div>\n",
       "<style scoped>\n",
       "    .dataframe tbody tr th:only-of-type {\n",
       "        vertical-align: middle;\n",
       "    }\n",
       "\n",
       "    .dataframe tbody tr th {\n",
       "        vertical-align: top;\n",
       "    }\n",
       "\n",
       "    .dataframe thead th {\n",
       "        text-align: right;\n",
       "    }\n",
       "</style>\n",
       "<table border=\"1\" class=\"dataframe\">\n",
       "  <thead>\n",
       "    <tr style=\"text-align: right;\">\n",
       "      <th></th>\n",
       "      <th>word</th>\n",
       "      <th>count</th>\n",
       "    </tr>\n",
       "  </thead>\n",
       "  <tbody>\n",
       "    <tr>\n",
       "      <th>0</th>\n",
       "      <td>bjp</td>\n",
       "      <td>2723</td>\n",
       "    </tr>\n",
       "    <tr>\n",
       "      <th>1</th>\n",
       "      <td>bjp4india</td>\n",
       "      <td>1494</td>\n",
       "    </tr>\n",
       "    <tr>\n",
       "      <th>2</th>\n",
       "      <td>कर</td>\n",
       "      <td>946</td>\n",
       "    </tr>\n",
       "    <tr>\n",
       "      <th>3</th>\n",
       "      <td>पर</td>\n",
       "      <td>820</td>\n",
       "    </tr>\n",
       "    <tr>\n",
       "      <th>4</th>\n",
       "      <td>रह</td>\n",
       "      <td>820</td>\n",
       "    </tr>\n",
       "    <tr>\n",
       "      <th>5</th>\n",
       "      <td>और</td>\n",
       "      <td>743</td>\n",
       "    </tr>\n",
       "    <tr>\n",
       "      <th>6</th>\n",
       "      <td>नह</td>\n",
       "      <td>691</td>\n",
       "    </tr>\n",
       "    <tr>\n",
       "      <th>7</th>\n",
       "      <td>aap</td>\n",
       "      <td>619</td>\n",
       "    </tr>\n",
       "    <tr>\n",
       "      <th>8</th>\n",
       "      <td>narendramodi</td>\n",
       "      <td>565</td>\n",
       "    </tr>\n",
       "    <tr>\n",
       "      <th>9</th>\n",
       "      <td>hai</td>\n",
       "      <td>564</td>\n",
       "    </tr>\n",
       "    <tr>\n",
       "      <th>10</th>\n",
       "      <td>jpnadda</td>\n",
       "      <td>437</td>\n",
       "    </tr>\n",
       "    <tr>\n",
       "      <th>11</th>\n",
       "      <td>जर</td>\n",
       "      <td>432</td>\n",
       "    </tr>\n",
       "    <tr>\n",
       "      <th>12</th>\n",
       "      <td>यक</td>\n",
       "      <td>418</td>\n",
       "    </tr>\n",
       "    <tr>\n",
       "      <th>13</th>\n",
       "      <td>bjp4delhi</td>\n",
       "      <td>385</td>\n",
       "    </tr>\n",
       "    <tr>\n",
       "      <th>14</th>\n",
       "      <td>congress</td>\n",
       "      <td>363</td>\n",
       "    </tr>\n",
       "    <tr>\n",
       "      <th>15</th>\n",
       "      <td>not</td>\n",
       "      <td>358</td>\n",
       "    </tr>\n",
       "    <tr>\n",
       "      <th>16</th>\n",
       "      <td>arvindkejriw</td>\n",
       "      <td>351</td>\n",
       "    </tr>\n",
       "    <tr>\n",
       "      <th>17</th>\n",
       "      <td>सम</td>\n",
       "      <td>347</td>\n",
       "    </tr>\n",
       "    <tr>\n",
       "      <th>18</th>\n",
       "      <td>parti</td>\n",
       "      <td>343</td>\n",
       "    </tr>\n",
       "    <tr>\n",
       "      <th>19</th>\n",
       "      <td>ki</td>\n",
       "      <td>336</td>\n",
       "    </tr>\n",
       "  </tbody>\n",
       "</table>\n",
       "</div>"
      ],
      "text/plain": [
       "            word  count\n",
       "0            bjp   2723\n",
       "1      bjp4india   1494\n",
       "2             कर    946\n",
       "3             पर    820\n",
       "4             रह    820\n",
       "5             और    743\n",
       "6             नह    691\n",
       "7            aap    619\n",
       "8   narendramodi    565\n",
       "9            hai    564\n",
       "10       jpnadda    437\n",
       "11            जर    432\n",
       "12            यक    418\n",
       "13     bjp4delhi    385\n",
       "14      congress    363\n",
       "15           not    358\n",
       "16  arvindkejriw    351\n",
       "17            सम    347\n",
       "18         parti    343\n",
       "19            ki    336"
      ]
     },
     "execution_count": 16,
     "metadata": {},
     "output_type": "execute_result"
    }
   ],
   "source": [
    "get_n_grams(df.clean,1,1,20)"
   ]
  },
  {
   "cell_type": "code",
   "execution_count": 17,
   "id": "0981eb8c",
   "metadata": {},
   "outputs": [
    {
     "data": {
      "image/png": "[encoded data removed]",
      "text/plain": [
       "<Figure size 720x360 with 1 Axes>"
      ]
     },
     "metadata": {
      "needs_background": "light"
     },
     "output_type": "display_data"
    },
    {
     "data": {
      "text/html": [
       "<div>\n",
       "<style scoped>\n",
       "    .dataframe tbody tr th:only-of-type {\n",
       "        vertical-align: middle;\n",
       "    }\n",
       "\n",
       "    .dataframe tbody tr th {\n",
       "        vertical-align: top;\n",
       "    }\n",
       "\n",
       "    .dataframe thead th {\n",
       "        text-align: right;\n",
       "    }\n",
       "</style>\n",
       "<table border=\"1\" class=\"dataframe\">\n",
       "  <thead>\n",
       "    <tr style=\"text-align: right;\">\n",
       "      <th></th>\n",
       "      <th>word</th>\n",
       "      <th>count</th>\n",
       "    </tr>\n",
       "  </thead>\n",
       "  <tbody>\n",
       "    <tr>\n",
       "      <th>0</th>\n",
       "      <td>अध यक</td>\n",
       "      <td>243</td>\n",
       "    </tr>\n",
       "    <tr>\n",
       "      <th>1</th>\n",
       "      <td>bjp4india bjp4delhi</td>\n",
       "      <td>164</td>\n",
       "    </tr>\n",
       "    <tr>\n",
       "      <th>2</th>\n",
       "      <td>कर रह</td>\n",
       "      <td>143</td>\n",
       "    </tr>\n",
       "    <tr>\n",
       "      <th>3</th>\n",
       "      <td>चपरम वरसम</td>\n",
       "      <td>112</td>\n",
       "    </tr>\n",
       "    <tr>\n",
       "      <th>4</th>\n",
       "      <td>वरसम लन</td>\n",
       "      <td>111</td>\n",
       "    </tr>\n",
       "    <tr>\n",
       "      <th>5</th>\n",
       "      <td>narendramodi amitshah</td>\n",
       "      <td>100</td>\n",
       "    </tr>\n",
       "    <tr>\n",
       "      <th>6</th>\n",
       "      <td>भक मन</td>\n",
       "      <td>93</td>\n",
       "    </tr>\n",
       "    <tr>\n",
       "      <th>7</th>\n",
       "      <td>watch abuttarchahiy</td>\n",
       "      <td>85</td>\n",
       "    </tr>\n",
       "    <tr>\n",
       "      <th>8</th>\n",
       "      <td>bjp4delhi bjp4india</td>\n",
       "      <td>83</td>\n",
       "    </tr>\n",
       "    <tr>\n",
       "      <th>9</th>\n",
       "      <td>उम दव</td>\n",
       "      <td>72</td>\n",
       "    </tr>\n",
       "    <tr>\n",
       "      <th>10</th>\n",
       "      <td>सम लन</td>\n",
       "      <td>69</td>\n",
       "    </tr>\n",
       "    <tr>\n",
       "      <th>11</th>\n",
       "      <td>bjp4india aamaadmiparti</td>\n",
       "      <td>68</td>\n",
       "    </tr>\n",
       "    <tr>\n",
       "      <th>12</th>\n",
       "      <td>यक jpnadda</td>\n",
       "      <td>67</td>\n",
       "    </tr>\n",
       "    <tr>\n",
       "      <th>13</th>\n",
       "      <td>abuttarchahiy manishsisodia</td>\n",
       "      <td>66</td>\n",
       "    </tr>\n",
       "    <tr>\n",
       "      <th>14</th>\n",
       "      <td>manishsisodia aamitabh2</td>\n",
       "      <td>66</td>\n",
       "    </tr>\n",
       "    <tr>\n",
       "      <th>15</th>\n",
       "      <td>जन मद</td>\n",
       "      <td>63</td>\n",
       "    </tr>\n",
       "    <tr>\n",
       "      <th>16</th>\n",
       "      <td>amitshah jpnadda</td>\n",
       "      <td>62</td>\n",
       "    </tr>\n",
       "    <tr>\n",
       "      <th>17</th>\n",
       "      <td>pandajay alkagurjar</td>\n",
       "      <td>58</td>\n",
       "    </tr>\n",
       "    <tr>\n",
       "      <th>18</th>\n",
       "      <td>aamaadmiparti bjp4india</td>\n",
       "      <td>57</td>\n",
       "    </tr>\n",
       "    <tr>\n",
       "      <th>19</th>\n",
       "      <td>आम आदम</td>\n",
       "      <td>56</td>\n",
       "    </tr>\n",
       "  </tbody>\n",
       "</table>\n",
       "</div>"
      ],
      "text/plain": [
       "                           word  count\n",
       "0                         अध यक    243\n",
       "1           bjp4india bjp4delhi    164\n",
       "2                         कर रह    143\n",
       "3                     चपरम वरसम    112\n",
       "4                       वरसम लन    111\n",
       "5         narendramodi amitshah    100\n",
       "6                         भक मन     93\n",
       "7           watch abuttarchahiy     85\n",
       "8           bjp4delhi bjp4india     83\n",
       "9                         उम दव     72\n",
       "10                        सम लन     69\n",
       "11      bjp4india aamaadmiparti     68\n",
       "12                   यक jpnadda     67\n",
       "13  abuttarchahiy manishsisodia     66\n",
       "14      manishsisodia aamitabh2     66\n",
       "15                        जन मद     63\n",
       "16             amitshah jpnadda     62\n",
       "17          pandajay alkagurjar     58\n",
       "18      aamaadmiparti bjp4india     57\n",
       "19                       आम आदम     56"
      ]
     },
     "execution_count": 17,
     "metadata": {},
     "output_type": "execute_result"
    }
   ],
   "source": [
    "get_n_grams(df.clean,2,2,20)"
   ]
  },
  {
   "cell_type": "code",
   "execution_count": 10,
   "id": "99fbcaa3",
   "metadata": {},
   "outputs": [],
   "source": [
    " train_text=df.clean\n",
    "train_on=df.label"
   ]
  },
  {
   "cell_type": "code",
   "execution_count": 11,
   "id": "44d8fbf4",
   "metadata": {},
   "outputs": [],
   "source": [
    "df2=pd.read_csv('generic_sentiment_dataset_10k.csv')"
   ]
  },
  {
   "cell_type": "code",
   "execution_count": 19,
   "id": "188e0259",
   "metadata": {},
   "outputs": [
    {
     "data": {
      "text/plain": [
       "(10000, 3)"
      ]
     },
     "execution_count": 19,
     "metadata": {},
     "output_type": "execute_result"
    }
   ],
   "source": [
    "\n",
    "df2.shape"
   ]
  },
  {
   "cell_type": "code",
   "execution_count": 20,
   "id": "e17b3bd5",
   "metadata": {},
   "outputs": [
    {
     "data": {
      "text/html": [
       "<div>\n",
       "<style scoped>\n",
       "    .dataframe tbody tr th:only-of-type {\n",
       "        vertical-align: middle;\n",
       "    }\n",
       "\n",
       "    .dataframe tbody tr th {\n",
       "        vertical-align: top;\n",
       "    }\n",
       "\n",
       "    .dataframe thead th {\n",
       "        text-align: right;\n",
       "    }\n",
       "</style>\n",
       "<table border=\"1\" class=\"dataframe\">\n",
       "  <thead>\n",
       "    <tr style=\"text-align: right;\">\n",
       "      <th></th>\n",
       "      <th>sentiment</th>\n",
       "      <th>text</th>\n",
       "      <th>label</th>\n",
       "    </tr>\n",
       "  </thead>\n",
       "  <tbody>\n",
       "    <tr>\n",
       "      <th>0</th>\n",
       "      <td>neutral</td>\n",
       "      <td>Camera good</td>\n",
       "      <td>1</td>\n",
       "    </tr>\n",
       "    <tr>\n",
       "      <th>1</th>\n",
       "      <td>negative</td>\n",
       "      <td>OMG! I KNOW!  I give myself a stroke everytim...</td>\n",
       "      <td>0</td>\n",
       "    </tr>\n",
       "    <tr>\n",
       "      <th>2</th>\n",
       "      <td>neutral</td>\n",
       "      <td>Good</td>\n",
       "      <td>1</td>\n",
       "    </tr>\n",
       "    <tr>\n",
       "      <th>3</th>\n",
       "      <td>positive</td>\n",
       "      <td>The company recorded revenues of E658 .1 milli...</td>\n",
       "      <td>2</td>\n",
       "    </tr>\n",
       "    <tr>\n",
       "      <th>4</th>\n",
       "      <td>positive</td>\n",
       "      <td>All is good</td>\n",
       "      <td>2</td>\n",
       "    </tr>\n",
       "  </tbody>\n",
       "</table>\n",
       "</div>"
      ],
      "text/plain": [
       "  sentiment                                               text  label\n",
       "0   neutral                                        Camera good      1\n",
       "1  negative   OMG! I KNOW!  I give myself a stroke everytim...      0\n",
       "2   neutral                                               Good      1\n",
       "3  positive  The company recorded revenues of E658 .1 milli...      2\n",
       "4  positive                                        All is good      2"
      ]
     },
     "execution_count": 20,
     "metadata": {},
     "output_type": "execute_result"
    }
   ],
   "source": [
    "df2.head()"
   ]
  },
  {
   "cell_type": "code",
   "execution_count": 12,
   "id": "31df7da1",
   "metadata": {},
   "outputs": [],
   "source": [
    "df2['clean']=df2['text'].apply(preprocess_text)\n",
    "df2.drop(df2[(df2['label']==1)].index, inplace=True,axis=0)"
   ]
  },
  {
   "cell_type": "code",
   "execution_count": 13,
   "id": "cb89a4dc",
   "metadata": {},
   "outputs": [],
   "source": [
    "test_text=df2.clean\n",
    "test_on=df2.label"
   ]
  },
  {
   "cell_type": "code",
   "execution_count": 14,
   "id": "5864fecc",
   "metadata": {},
   "outputs": [],
   "source": [
    "from sklearn.pipeline import Pipeline"
   ]
  },
  {
   "cell_type": "code",
   "execution_count": 15,
   "id": "c59a9288",
   "metadata": {},
   "outputs": [],
   "source": [
    "def diffmodel(mod,train_text,train_on,test_text,test_on):\n",
    "    try:\n",
    "        model=Pipeline([('vectorizer',TfidfVectorizer()),('classifier',mod)])\n",
    "        model.fit(train_text,train_on)\n",
    "        prediction=model.predict(test_text)\n",
    "        print(model['classifier'])\n",
    "        print(\"Accuracy : \", accuracy_score(prediction,test_on))\n",
    "        print(\"precision : \", precision_score(prediction,test_on,average='weighted'))\n",
    "    except:\n",
    "        print('can\\'t',mod)"
   ]
  },
  {
   "cell_type": "code",
   "execution_count": null,
   "id": "8fe605d7",
   "metadata": {},
   "outputs": [],
   "source": []
  },
  {
   "cell_type": "code",
   "execution_count": null,
   "id": "265a31f7",
   "metadata": {},
   "outputs": [],
   "source": []
  },
  {
   "cell_type": "code",
   "execution_count": null,
   "id": "d4a67913",
   "metadata": {},
   "outputs": [],
   "source": []
  },
  {
   "cell_type": "code",
   "execution_count": 28,
   "id": "d92596c0",
   "metadata": {},
   "outputs": [
    {
     "name": "stdout",
     "output_type": "stream",
     "text": [
      "NEGATIVE\n",
      "POSITIVE\n",
      "POSITIVE\n",
      "POSITIVE\n",
      "NEGATIVE\n",
      "NEGATIVE\n",
      "NEGATIVE\n"
     ]
    }
   ],
   "source": [
    "example = ['i m worst',\n",
    "           'i m okay',\n",
    "           'what is this phone',\n",
    "           'battery life is good',\n",
    "           'battery life is bad',\n",
    "           'Battery Problem After 05 Month',\n",
    "           'Phone stoped working after 5 months'\n",
    "          ]\n",
    "change=np.vectorize(preprocess_text)\n",
    "example=change(example)\n",
    "res=model.predict(example)\n",
    "for i in res:\n",
    "    if (i==0):\n",
    "        print('NEGATIVE')\n",
    "    else: \n",
    "        print('POSITIVE')"
   ]
  },
  {
   "cell_type": "code",
   "execution_count": 27,
   "id": "1d58a6e2",
   "metadata": {},
   "outputs": [],
   "source": [
    "models = [LogisticRegression(),SVC()]"
   ]
  },
  {
   "cell_type": "code",
   "execution_count": 18,
   "id": "dcc9a82a",
   "metadata": {},
   "outputs": [],
   "source": [
    "from sklearn.ensemble import RandomForestClassifier, ExtraTreesClassifier\n",
    "from sklearn.neighbors import KNeighborsClassifier"
   ]
  },
  {
   "cell_type": "code",
   "execution_count": null,
   "id": "74ca3a0b",
   "metadata": {},
   "outputs": [
    {
     "name": "stderr",
     "output_type": "stream",
     "text": [
      " 50%|██████████████████████████████████████████                                          | 1/2 [00:08<00:08,  8.38s/it]"
     ]
    },
    {
     "name": "stdout",
     "output_type": "stream",
     "text": [
      "LogisticRegression()\n",
      "Accuracy :  0.8957995762183721\n",
      "precision :  0.8966375789618328\n"
     ]
    }
   ],
   "source": [
    "for mod in tqdm(models):\n",
    "    diffmodel(mod,train_text,train_on,test_text,test_on)"
   ]
  },
  {
   "cell_type": "code",
   "execution_count": 28,
   "id": "6d619b75",
   "metadata": {},
   "outputs": [],
   "source": [
    "from tqdm import tqdm"
   ]
  },
  {
   "cell_type": "code",
   "execution_count": 16,
   "id": "3faf4297",
   "metadata": {},
   "outputs": [
    {
     "name": "stdout",
     "output_type": "stream",
     "text": [
      "LogisticRegression()\n",
      "Accuracy :  0.8957995762183721\n",
      "precision :  0.8966375789618328\n"
     ]
    }
   ],
   "source": [
    "diffmodel(LogisticRegression(),train_text,train_on,test_text,test_on)"
   ]
  },
  {
   "cell_type": "code",
   "execution_count": 17,
   "id": "522d4c96",
   "metadata": {},
   "outputs": [
    {
     "name": "stdout",
     "output_type": "stream",
     "text": [
      "SVC()\n",
      "Accuracy :  0.9037766421538078\n",
      "precision :  0.9043147977621473\n"
     ]
    }
   ],
   "source": [
    "diffmodel(SVC(),train_text,train_on,test_text,test_on)"
   ]
  },
  {
   "cell_type": "code",
   "execution_count": 19,
   "id": "85eda5ed",
   "metadata": {},
   "outputs": [
    {
     "name": "stdout",
     "output_type": "stream",
     "text": [
      "ExtraTreesClassifier()\n",
      "Accuracy :  0.8955502929078898\n",
      "precision :  0.8971697335980305\n"
     ]
    }
   ],
   "source": [
    " diffmodel(ExtraTreesClassifier(),train_text,train_on,test_text,test_on)"
   ]
  },
  {
   "cell_type": "code",
   "execution_count": 20,
   "id": "d227b0c1",
   "metadata": {},
   "outputs": [
    {
     "name": "stdout",
     "output_type": "stream",
     "text": [
      "KNeighborsClassifier()\n",
      "Accuracy :  0.722672317088371\n",
      "precision :  0.8285587002164666\n"
     ]
    }
   ],
   "source": [
    " diffmodel(KNeighborsClassifier(),train_text,train_on,test_text,test_on)"
   ]
  },
  {
   "cell_type": "code",
   "execution_count": 21,
   "id": "18e57030",
   "metadata": {},
   "outputs": [
    {
     "name": "stdout",
     "output_type": "stream",
     "text": [
      "RandomForestClassifier()\n",
      "Accuracy :  0.8950517262869251\n",
      "precision :  0.8965397403631254\n"
     ]
    }
   ],
   "source": [
    "diffmodel(RandomForestClassifier(),train_text,train_on,test_text,test_on)"
   ]
  },
  {
   "cell_type": "code",
   "execution_count": null,
   "id": "29b039bb",
   "metadata": {},
   "outputs": [],
   "source": [
    " "
   ]
  }
 ],
 "metadata": {
  "kernelspec": {
   "display_name": "Python 3 (ipykernel)",
   "language": "python",
   "name": "python3"
  },
  "language_info": {
   "codemirror_mode": {
    "name": "ipython",
    "version": 3
   },
   "file_extension": ".py",
   "mimetype": "text/x-python",
   "name": "python",
   "nbconvert_exporter": "python",
   "pygments_lexer": "ipython3",
   "version": "3.9.12"
  }
 },
 "nbformat": 4,
 "nbformat_minor": 5
}
