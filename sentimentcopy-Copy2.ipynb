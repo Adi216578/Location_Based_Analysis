{
 "cells": [
  {
   "cell_type": "code",
   "execution_count": 1,
   "id": "fc4566e8",
   "metadata": {},
   "outputs": [],
   "source": [
    "import pandas as pd\n",
    "import numpy as np\n",
    "import re\n",
    "import string\n",
    "import seaborn as sns\n",
    "import matplotlib.pyplot as plt"
   ]
  },
  {
   "cell_type": "code",
   "execution_count": 4,
   "id": "f247091d",
   "metadata": {},
   "outputs": [],
   "source": [
    "from nltk.corpus import stopwords\n",
    "from nltk.tokenize import word_tokenize\n",
    "from nltk.stem import PorterStemmer\n",
    "from nltk.stem import WordNetLemmatizer\n",
    "from sklearn.feature_extraction.text import TfidfVectorizer , CountVectorizer\n",
    "from sklearn.model_selection import train_test_split"
   ]
  },
  {
   "cell_type": "code",
   "execution_count": 5,
   "id": "9df43997",
   "metadata": {},
   "outputs": [],
   "source": [
    "from sklearn.metrics import accuracy_score , confusion_matrix , precision_score\n",
    "from sklearn.naive_bayes import MultinomialNB\n",
    "from sklearn.linear_model import LogisticRegression\n",
    "from sklearn.svm import SVC\n",
    "import warnings\n",
    "warnings.filterwarnings(\"ignore\")"
   ]
  },
  {
   "cell_type": "code",
   "execution_count": 6,
   "id": "1092a813",
   "metadata": {},
   "outputs": [
    {
     "name": "stderr",
     "output_type": "stream",
     "text": [
      "[nltk_data] Downloading package stopwords to C:\\Users\\Anshuman\n",
      "[nltk_data]     Vashishtha\\AppData\\Roaming\\nltk_data...\n",
      "[nltk_data]   Package stopwords is already up-to-date!\n",
      "[nltk_data] Downloading package punkt to C:\\Users\\Anshuman\n",
      "[nltk_data]     Vashishtha\\AppData\\Roaming\\nltk_data...\n",
      "[nltk_data]   Package punkt is already up-to-date!\n",
      "[nltk_data] Downloading package omw-1.4 to C:\\Users\\Anshuman\n",
      "[nltk_data]     Vashishtha\\AppData\\Roaming\\nltk_data...\n",
      "[nltk_data]   Package omw-1.4 is already up-to-date!\n",
      "[nltk_data] Downloading package wordnet to C:\\Users\\Anshuman\n",
      "[nltk_data]     Vashishtha\\AppData\\Roaming\\nltk_data...\n",
      "[nltk_data]   Package wordnet is already up-to-date!\n"
     ]
    },
    {
     "data": {
      "text/plain": [
       "True"
      ]
     },
     "execution_count": 6,
     "metadata": {},
     "output_type": "execute_result"
    }
   ],
   "source": [
    "import nltk \n",
    "nltk.download('stopwords')\n",
    "stop_words=set(stopwords.words('english'))\n",
    "stop_words.remove('not')\n",
    "nltk.download('punkt')\n",
    "nltk.download('omw-1.4')\n",
    "nltk.download('wordnet')"
   ]
  },
  {
   "cell_type": "code",
   "execution_count": 7,
   "id": "e13e3ef6",
   "metadata": {},
   "outputs": [],
   "source": [
    " df=pd.read_csv('bhopal.csv')"
   ]
  },
  {
   "cell_type": "code",
   "execution_count": 9,
   "id": "d74ff59e",
   "metadata": {},
   "outputs": [],
   "source": [
    "df=df[df['content'].str.len()>200]"
   ]
  },
  {
   "cell_type": "code",
   "execution_count": 27,
   "id": "ad3e2764",
   "metadata": {},
   "outputs": [
    {
     "data": {
      "text/html": [
       "<div>\n",
       "<style scoped>\n",
       "    .dataframe tbody tr th:only-of-type {\n",
       "        vertical-align: middle;\n",
       "    }\n",
       "\n",
       "    .dataframe tbody tr th {\n",
       "        vertical-align: top;\n",
       "    }\n",
       "\n",
       "    .dataframe thead th {\n",
       "        text-align: right;\n",
       "    }\n",
       "</style>\n",
       "<table border=\"1\" class=\"dataframe\">\n",
       "  <thead>\n",
       "    <tr style=\"text-align: right;\">\n",
       "      <th></th>\n",
       "      <th>date</th>\n",
       "      <th>content</th>\n",
       "      <th>clean</th>\n",
       "      <th>TextBlob_Subjectivity</th>\n",
       "      <th>TextBlob_Polarity</th>\n",
       "      <th>TextBlob_Analysis</th>\n",
       "    </tr>\n",
       "  </thead>\n",
       "  <tbody>\n",
       "    <tr>\n",
       "      <th>2</th>\n",
       "      <td>2022-10-19 18:09:25+00:00</td>\n",
       "      <td>बीजेपी वाले #रिमोट_वाला_खड़गे ट्रेंड करा रहे ह...</td>\n",
       "      <td>बीजेपी वाले रिमोटवालाखड़गे ट्रेंड करा रहे हैं।...</td>\n",
       "      <td>0.000000</td>\n",
       "      <td>0.0</td>\n",
       "      <td>Neutral</td>\n",
       "    </tr>\n",
       "    <tr>\n",
       "      <th>3</th>\n",
       "      <td>2022-10-19 18:01:26+00:00</td>\n",
       "      <td>सनतनियो  जहां जहां #कांग्रेस की सरकार है बहां ...</td>\n",
       "      <td>सनतनियो जहां जहां कांग्रेस की सरकार है बहां यह...</td>\n",
       "      <td>0.000000</td>\n",
       "      <td>0.0</td>\n",
       "      <td>Neutral</td>\n",
       "    </tr>\n",
       "    <tr>\n",
       "      <th>4</th>\n",
       "      <td>2022-10-19 17:50:23+00:00</td>\n",
       "      <td>आज राष्ट्रीय अध्यक्ष श्री @LalSinghArya जी ने ...</td>\n",
       "      <td>आज राष्ट्रीय अध्यक्ष श्री lalsingharya जी ने स...</td>\n",
       "      <td>0.000000</td>\n",
       "      <td>0.0</td>\n",
       "      <td>Neutral</td>\n",
       "    </tr>\n",
       "    <tr>\n",
       "      <th>5</th>\n",
       "      <td>2022-10-19 17:38:54+00:00</td>\n",
       "      <td>@hindutva8550991 @ishivam0707 @pravindubey121 ...</td>\n",
       "      <td>hindutva8550991 ishivam0707 pravindubey121 bjp...</td>\n",
       "      <td>0.483333</td>\n",
       "      <td>0.4</td>\n",
       "      <td>Positive</td>\n",
       "    </tr>\n",
       "    <tr>\n",
       "      <th>12</th>\n",
       "      <td>2022-10-19 17:14:57+00:00</td>\n",
       "      <td>वो दिखावा कुछ इस तरह करते हैं हम भोले भाले लोग...</td>\n",
       "      <td>वो दिखावा कुछ इस तरह करते हैं हम भोले भाले लोग...</td>\n",
       "      <td>0.000000</td>\n",
       "      <td>0.0</td>\n",
       "      <td>Neutral</td>\n",
       "    </tr>\n",
       "    <tr>\n",
       "      <th>...</th>\n",
       "      <td>...</td>\n",
       "      <td>...</td>\n",
       "      <td>...</td>\n",
       "      <td>...</td>\n",
       "      <td>...</td>\n",
       "      <td>...</td>\n",
       "    </tr>\n",
       "    <tr>\n",
       "      <th>9987</th>\n",
       "      <td>2022-07-26 10:47:37+00:00</td>\n",
       "      <td>कुछ याद उन्हें भी कर लो जो लौट के घर ना आये......</td>\n",
       "      <td>कुछ याद उन्हें भी कर लो जो लौट के घर ना आये का...</td>\n",
       "      <td>0.000000</td>\n",
       "      <td>0.0</td>\n",
       "      <td>Neutral</td>\n",
       "    </tr>\n",
       "    <tr>\n",
       "      <th>9991</th>\n",
       "      <td>2022-07-26 10:08:19+00:00</td>\n",
       "      <td>Bharatiya Janata Party (BJP)\\nकी राष्ट्रीय सचि...</td>\n",
       "      <td>bharatiya janata parti bjp की राष्ट्रीय सचिव म...</td>\n",
       "      <td>0.000000</td>\n",
       "      <td>0.0</td>\n",
       "      <td>Neutral</td>\n",
       "    </tr>\n",
       "    <tr>\n",
       "      <th>9995</th>\n",
       "      <td>2022-07-26 09:48:49+00:00</td>\n",
       "      <td>@bjpkrishnayadav @vdsharmabjp @BBormundla @Cho...</td>\n",
       "      <td>bjpkrishnayadav vdsharmabjp bbormundla chouhan...</td>\n",
       "      <td>0.000000</td>\n",
       "      <td>0.0</td>\n",
       "      <td>Neutral</td>\n",
       "    </tr>\n",
       "    <tr>\n",
       "      <th>9996</th>\n",
       "      <td>2022-07-26 09:11:42+00:00</td>\n",
       "      <td>भारतीय जनता पार्टी (@BJP4India) की राष्ट्रीय म...</td>\n",
       "      <td>भारतीय जनता पार्टी bjp4india की राष्ट्रीय मंत्...</td>\n",
       "      <td>0.000000</td>\n",
       "      <td>0.0</td>\n",
       "      <td>Neutral</td>\n",
       "    </tr>\n",
       "    <tr>\n",
       "      <th>9998</th>\n",
       "      <td>2022-07-26 08:41:00+00:00</td>\n",
       "      <td>@INCIndia,@RahulGandhi,@priyankagandhi,@AjitPa...</td>\n",
       "      <td>incindiarahulgandhipriyankagandhiajitpawarspea...</td>\n",
       "      <td>0.000000</td>\n",
       "      <td>0.0</td>\n",
       "      <td>Neutral</td>\n",
       "    </tr>\n",
       "  </tbody>\n",
       "</table>\n",
       "<p>3057 rows × 6 columns</p>\n",
       "</div>"
      ],
      "text/plain": [
       "                           date  \\\n",
       "2     2022-10-19 18:09:25+00:00   \n",
       "3     2022-10-19 18:01:26+00:00   \n",
       "4     2022-10-19 17:50:23+00:00   \n",
       "5     2022-10-19 17:38:54+00:00   \n",
       "12    2022-10-19 17:14:57+00:00   \n",
       "...                         ...   \n",
       "9987  2022-07-26 10:47:37+00:00   \n",
       "9991  2022-07-26 10:08:19+00:00   \n",
       "9995  2022-07-26 09:48:49+00:00   \n",
       "9996  2022-07-26 09:11:42+00:00   \n",
       "9998  2022-07-26 08:41:00+00:00   \n",
       "\n",
       "                                                content  \\\n",
       "2     बीजेपी वाले #रिमोट_वाला_खड़गे ट्रेंड करा रहे ह...   \n",
       "3     सनतनियो  जहां जहां #कांग्रेस की सरकार है बहां ...   \n",
       "4     आज राष्ट्रीय अध्यक्ष श्री @LalSinghArya जी ने ...   \n",
       "5     @hindutva8550991 @ishivam0707 @pravindubey121 ...   \n",
       "12    वो दिखावा कुछ इस तरह करते हैं हम भोले भाले लोग...   \n",
       "...                                                 ...   \n",
       "9987  कुछ याद उन्हें भी कर लो जो लौट के घर ना आये......   \n",
       "9991  Bharatiya Janata Party (BJP)\\nकी राष्ट्रीय सचि...   \n",
       "9995  @bjpkrishnayadav @vdsharmabjp @BBormundla @Cho...   \n",
       "9996  भारतीय जनता पार्टी (@BJP4India) की राष्ट्रीय म...   \n",
       "9998  @INCIndia,@RahulGandhi,@priyankagandhi,@AjitPa...   \n",
       "\n",
       "                                                  clean  \\\n",
       "2     बीजेपी वाले रिमोटवालाखड़गे ट्रेंड करा रहे हैं।...   \n",
       "3     सनतनियो जहां जहां कांग्रेस की सरकार है बहां यह...   \n",
       "4     आज राष्ट्रीय अध्यक्ष श्री lalsingharya जी ने स...   \n",
       "5     hindutva8550991 ishivam0707 pravindubey121 bjp...   \n",
       "12    वो दिखावा कुछ इस तरह करते हैं हम भोले भाले लोग...   \n",
       "...                                                 ...   \n",
       "9987  कुछ याद उन्हें भी कर लो जो लौट के घर ना आये का...   \n",
       "9991  bharatiya janata parti bjp की राष्ट्रीय सचिव म...   \n",
       "9995  bjpkrishnayadav vdsharmabjp bbormundla chouhan...   \n",
       "9996  भारतीय जनता पार्टी bjp4india की राष्ट्रीय मंत्...   \n",
       "9998  incindiarahulgandhipriyankagandhiajitpawarspea...   \n",
       "\n",
       "      TextBlob_Subjectivity  TextBlob_Polarity TextBlob_Analysis  \n",
       "2                  0.000000                0.0           Neutral  \n",
       "3                  0.000000                0.0           Neutral  \n",
       "4                  0.000000                0.0           Neutral  \n",
       "5                  0.483333                0.4          Positive  \n",
       "12                 0.000000                0.0           Neutral  \n",
       "...                     ...                ...               ...  \n",
       "9987               0.000000                0.0           Neutral  \n",
       "9991               0.000000                0.0           Neutral  \n",
       "9995               0.000000                0.0           Neutral  \n",
       "9996               0.000000                0.0           Neutral  \n",
       "9998               0.000000                0.0           Neutral  \n",
       "\n",
       "[3057 rows x 6 columns]"
      ]
     },
     "execution_count": 27,
     "metadata": {},
     "output_type": "execute_result"
    }
   ],
   "source": [
    "df"
   ]
  },
  {
   "cell_type": "code",
   "execution_count": 11,
   "id": "dd503d87",
   "metadata": {},
   "outputs": [
    {
     "data": {
      "text/plain": [
       "Index(['Unnamed: 0', 'date', 'content'], dtype='object')"
      ]
     },
     "execution_count": 11,
     "metadata": {},
     "output_type": "execute_result"
    }
   ],
   "source": [
    "df.columns"
   ]
  },
  {
   "cell_type": "code",
   "execution_count": null,
   "id": "2d29f7c5",
   "metadata": {},
   "outputs": [],
   "source": [
    "# 2 for positive \n",
    "# 0 for negative"
   ]
  },
  {
   "cell_type": "code",
   "execution_count": 12,
   "id": "26ad226f",
   "metadata": {},
   "outputs": [],
   "source": [
    " df=df.drop('Unnamed: 0',axis=1)"
   ]
  },
  {
   "cell_type": "code",
   "execution_count": 14,
   "id": "cd244d78",
   "metadata": {},
   "outputs": [],
   "source": [
    "def preprocess_text(text):\n",
    "    text=text.lower()\n",
    "    #remove urls\n",
    "    text=re.sub(r\"http\\S+|www\\S+|https\\S+\", \"\",text,flags=re.MULTILINE)\n",
    "    text=text.translate(str.maketrans(\"\", \"\",string.punctuation))\n",
    "    text=re.sub(r'\\@\\w+|\\#', \"\",text)\n",
    "    text_tokens=word_tokenize(text)\n",
    "    fil_words=[word for word in text_tokens if word not in stop_words]\n",
    "    \n",
    "    #stemming\n",
    "    ps=PorterStemmer()\n",
    "    stem_words=[ps.stem(w) for w in fil_words]\n",
    "    \n",
    "    #lemmatizing\n",
    "    lemmatizer = WordNetLemmatizer()\n",
    "    lem_words=[lemmatizer.lemmatize(w, pos='a') for w in stem_words]\n",
    "    \n",
    "    return \" \".join(lem_words)\n",
    "    \n",
    "\n",
    "     "
   ]
  },
  {
   "cell_type": "code",
   "execution_count": 25,
   "id": "56cb93fc",
   "metadata": {},
   "outputs": [],
   "source": [
    "from textblob import TextBlob\n",
    "def sentiment_analysis(tweet):\n",
    " def getSubjectivity(text):\n",
    "   return TextBlob(text).sentiment.subjectivity\n",
    "  \n",
    " #Create a function to get the polarity\n",
    " def getPolarity(text):\n",
    "   return TextBlob(text).sentiment.polarity\n",
    "  \n",
    " #Create two new columns ‘Subjectivity’ & ‘Polarity’\n",
    " tweet['TextBlob_Subjectivity'] = tweet['clean'].apply(getSubjectivity)\n",
    " tweet['TextBlob_Polarity'] = tweet['clean'].apply(getPolarity)\n",
    " def getAnalysis(score):\n",
    "  if score < 0:\n",
    "    return 'Negative'\n",
    "  elif score == 0:\n",
    "    return 'Neutral'\n",
    "  else:\n",
    "    return 'Positive'\n",
    " tweet ['TextBlob_Analysis'] = tweet  ['TextBlob_Polarity'].apply(getAnalysis )\n",
    " return tweet\n",
    "\n",
    "dfnew=sentiment_analysis(df)"
   ]
  },
  {
   "cell_type": "code",
   "execution_count": null,
   "id": "299edebb",
   "metadata": {},
   "outputs": [],
   "source": []
  },
  {
   "cell_type": "code",
   "execution_count": null,
   "id": "8203452d",
   "metadata": {},
   "outputs": [],
   "source": []
  },
  {
   "cell_type": "code",
   "execution_count": 26,
   "id": "224a2299",
   "metadata": {},
   "outputs": [
    {
     "data": {
      "image/png": "[encoded data removed]",
      "text/plain": [
       "<Figure size 432x288 with 1 Axes>"
      ]
     },
     "metadata": {
      "needs_background": "light"
     },
     "output_type": "display_data"
    }
   ],
   "source": [
    "sns.countplot(dfnew.TextBlob_Analysis)\n",
    "plt.show()"
   ]
  },
  {
   "cell_type": "code",
   "execution_count": 13,
   "id": "d60595e8",
   "metadata": {},
   "outputs": [
    {
     "data": {
      "text/plain": [
       "2    26180\n",
       "0    14165\n",
       "1     9655\n",
       "Name: label, dtype: int64"
      ]
     },
     "execution_count": 13,
     "metadata": {},
     "output_type": "execute_result"
    }
   ],
   "source": [
    "df.label.value_counts()"
   ]
  },
  {
   "cell_type": "code",
   "execution_count": 15,
   "id": "52497c62",
   "metadata": {},
   "outputs": [],
   "source": [
    "df['clean']=df['content'].apply(preprocess_text);"
   ]
  },
  {
   "cell_type": "code",
   "execution_count": 9,
   "id": "662b1ef3",
   "metadata": {},
   "outputs": [
    {
     "data": {
      "text/plain": [
       "(40345, 3)"
      ]
     },
     "execution_count": 9,
     "metadata": {},
     "output_type": "execute_result"
    }
   ],
   "source": [
    "df.drop(df[(df['label']==1)].index, inplace=True,axis=0)\n",
    "df.head()\n",
    "df.shape"
   ]
  },
  {
   "cell_type": "code",
   "execution_count": 16,
   "id": "174a0a9d",
   "metadata": {},
   "outputs": [],
   "source": [
    "def get_n_grams(text,low_n,high_n,top_number):\n",
    "    \n",
    "    # create vocabulary\n",
    "    vec = CountVectorizer(ngram_range=(low_n,high_n)).fit(text)\n",
    "    B_O_G = vec.transform(text)\n",
    "    \n",
    "    # Get words Count\n",
    "    words_count = B_O_G.sum(axis=0)\n",
    "    \n",
    "    # create list of words counts\n",
    "    word_counts_list = np.array(words_count)[0].tolist()\n",
    "    \n",
    "    # create tuple of word and words count\n",
    "    data = [ (word ,word_counts_list[idx]) for word,idx in vec.vocabulary_.items() ]\n",
    "    \n",
    "    # sort words by count descending\n",
    "    sorted_data = sorted(data,key=lambda x:x[1] ,reverse=True)\n",
    "    sorted_data = sorted_data[:top_number]\n",
    "    new_s = []\n",
    "    for d , n in sorted_data:\n",
    "        new_s.append([d ,n])\n",
    "    \n",
    "    del vec , data ,B_O_G ,words_count,word_counts_list ,sorted_data\n",
    "    plt.figure(figsize=(10,5))\n",
    "    sns.barplot(data = pd.DataFrame(new_s,columns=['word','count']),x='word',y='count')\n",
    "    plt.xticks(rotation=90)\n",
    "    plt.show()\n",
    "    \n",
    "    return pd.DataFrame(new_s,columns=['word','count'])"
   ]
  },
  {
   "cell_type": "code",
   "execution_count": 17,
   "id": "0b247227",
   "metadata": {},
   "outputs": [
    {
     "data": {
      "image/png": "[encoded data removed]",
      "text/plain": [
       "<Figure size 720x360 with 1 Axes>"
      ]
     },
     "metadata": {
      "needs_background": "light"
     },
     "output_type": "display_data"
    },
    {
     "data": {
      "text/html": [
       "<div>\n",
       "<style scoped>\n",
       "    .dataframe tbody tr th:only-of-type {\n",
       "        vertical-align: middle;\n",
       "    }\n",
       "\n",
       "    .dataframe tbody tr th {\n",
       "        vertical-align: top;\n",
       "    }\n",
       "\n",
       "    .dataframe thead th {\n",
       "        text-align: right;\n",
       "    }\n",
       "</style>\n",
       "<table border=\"1\" class=\"dataframe\">\n",
       "  <thead>\n",
       "    <tr style=\"text-align: right;\">\n",
       "      <th></th>\n",
       "      <th>word</th>\n",
       "      <th>count</th>\n",
       "    </tr>\n",
       "  </thead>\n",
       "  <tbody>\n",
       "    <tr>\n",
       "      <th>0</th>\n",
       "      <td>co</td>\n",
       "      <td>2132</td>\n",
       "    </tr>\n",
       "    <tr>\n",
       "      <th>1</th>\n",
       "      <td>https</td>\n",
       "      <td>2131</td>\n",
       "    </tr>\n",
       "    <tr>\n",
       "      <th>2</th>\n",
       "      <td>bjp4india</td>\n",
       "      <td>1881</td>\n",
       "    </tr>\n",
       "    <tr>\n",
       "      <th>3</th>\n",
       "      <td>पर</td>\n",
       "      <td>1213</td>\n",
       "    </tr>\n",
       "    <tr>\n",
       "      <th>4</th>\n",
       "      <td>bjp4mp</td>\n",
       "      <td>1136</td>\n",
       "    </tr>\n",
       "    <tr>\n",
       "      <th>5</th>\n",
       "      <td>bjp</td>\n",
       "      <td>1069</td>\n",
       "    </tr>\n",
       "    <tr>\n",
       "      <th>6</th>\n",
       "      <td>कर</td>\n",
       "      <td>1014</td>\n",
       "    </tr>\n",
       "    <tr>\n",
       "      <th>7</th>\n",
       "      <td>narendramodi</td>\n",
       "      <td>819</td>\n",
       "    </tr>\n",
       "    <tr>\n",
       "      <th>8</th>\n",
       "      <td>और</td>\n",
       "      <td>801</td>\n",
       "    </tr>\n",
       "    <tr>\n",
       "      <th>9</th>\n",
       "      <td>मह</td>\n",
       "      <td>783</td>\n",
       "    </tr>\n",
       "    <tr>\n",
       "      <th>10</th>\n",
       "      <td>रह</td>\n",
       "      <td>765</td>\n",
       "    </tr>\n",
       "    <tr>\n",
       "      <th>11</th>\n",
       "      <td>रत</td>\n",
       "      <td>757</td>\n",
       "    </tr>\n",
       "    <tr>\n",
       "      <th>12</th>\n",
       "      <td>chouhanshivraj</td>\n",
       "      <td>725</td>\n",
       "    </tr>\n",
       "    <tr>\n",
       "      <th>13</th>\n",
       "      <td>मन</td>\n",
       "      <td>645</td>\n",
       "    </tr>\n",
       "    <tr>\n",
       "      <th>14</th>\n",
       "      <td>एव</td>\n",
       "      <td>636</td>\n",
       "    </tr>\n",
       "    <tr>\n",
       "      <th>15</th>\n",
       "      <td>रद</td>\n",
       "      <td>601</td>\n",
       "    </tr>\n",
       "    <tr>\n",
       "      <th>16</th>\n",
       "      <td>यक</td>\n",
       "      <td>595</td>\n",
       "    </tr>\n",
       "    <tr>\n",
       "      <th>17</th>\n",
       "      <td>जन</td>\n",
       "      <td>573</td>\n",
       "    </tr>\n",
       "    <tr>\n",
       "      <th>18</th>\n",
       "      <td>vdsharmabjp</td>\n",
       "      <td>533</td>\n",
       "    </tr>\n",
       "    <tr>\n",
       "      <th>19</th>\n",
       "      <td>pmoindia</td>\n",
       "      <td>516</td>\n",
       "    </tr>\n",
       "  </tbody>\n",
       "</table>\n",
       "</div>"
      ],
      "text/plain": [
       "              word  count\n",
       "0               co   2132\n",
       "1            https   2131\n",
       "2        bjp4india   1881\n",
       "3               पर   1213\n",
       "4           bjp4mp   1136\n",
       "5              bjp   1069\n",
       "6               कर   1014\n",
       "7     narendramodi    819\n",
       "8               और    801\n",
       "9               मह    783\n",
       "10              रह    765\n",
       "11              रत    757\n",
       "12  chouhanshivraj    725\n",
       "13              मन    645\n",
       "14              एव    636\n",
       "15              रद    601\n",
       "16              यक    595\n",
       "17              जन    573\n",
       "18     vdsharmabjp    533\n",
       "19        pmoindia    516"
      ]
     },
     "execution_count": 17,
     "metadata": {},
     "output_type": "execute_result"
    }
   ],
   "source": [
    "get_n_grams(df.content,1,1,20)"
   ]
  },
  {
   "cell_type": "code",
   "execution_count": 18,
   "id": "c2572e49",
   "metadata": {},
   "outputs": [
    {
     "data": {
      "image/png": "[encoded data removed]",
      "text/plain": [
       "<Figure size 720x360 with 1 Axes>"
      ]
     },
     "metadata": {
      "needs_background": "light"
     },
     "output_type": "display_data"
    },
    {
     "data": {
      "text/html": [
       "<div>\n",
       "<style scoped>\n",
       "    .dataframe tbody tr th:only-of-type {\n",
       "        vertical-align: middle;\n",
       "    }\n",
       "\n",
       "    .dataframe tbody tr th {\n",
       "        vertical-align: top;\n",
       "    }\n",
       "\n",
       "    .dataframe thead th {\n",
       "        text-align: right;\n",
       "    }\n",
       "</style>\n",
       "<table border=\"1\" class=\"dataframe\">\n",
       "  <thead>\n",
       "    <tr style=\"text-align: right;\">\n",
       "      <th></th>\n",
       "      <th>word</th>\n",
       "      <th>count</th>\n",
       "    </tr>\n",
       "  </thead>\n",
       "  <tbody>\n",
       "    <tr>\n",
       "      <th>0</th>\n",
       "      <td>https co</td>\n",
       "      <td>2130</td>\n",
       "    </tr>\n",
       "    <tr>\n",
       "      <th>1</th>\n",
       "      <td>bjp4india bjp4mp</td>\n",
       "      <td>465</td>\n",
       "    </tr>\n",
       "    <tr>\n",
       "      <th>2</th>\n",
       "      <td>भक मन</td>\n",
       "      <td>408</td>\n",
       "    </tr>\n",
       "    <tr>\n",
       "      <th>3</th>\n",
       "      <td>bjp4mp bjp4india</td>\n",
       "      <td>276</td>\n",
       "    </tr>\n",
       "    <tr>\n",
       "      <th>4</th>\n",
       "      <td>जन मद</td>\n",
       "      <td>265</td>\n",
       "    </tr>\n",
       "    <tr>\n",
       "      <th>5</th>\n",
       "      <td>अध यक</td>\n",
       "      <td>233</td>\n",
       "    </tr>\n",
       "    <tr>\n",
       "      <th>6</th>\n",
       "      <td>रध नम</td>\n",
       "      <td>193</td>\n",
       "    </tr>\n",
       "    <tr>\n",
       "      <th>7</th>\n",
       "      <td>बध एव</td>\n",
       "      <td>192</td>\n",
       "    </tr>\n",
       "    <tr>\n",
       "      <th>8</th>\n",
       "      <td>एव भक</td>\n",
       "      <td>183</td>\n",
       "    </tr>\n",
       "    <tr>\n",
       "      <th>9</th>\n",
       "      <td>bjp4india https</td>\n",
       "      <td>182</td>\n",
       "    </tr>\n",
       "    <tr>\n",
       "      <th>10</th>\n",
       "      <td>यप रद</td>\n",
       "      <td>180</td>\n",
       "    </tr>\n",
       "    <tr>\n",
       "      <th>11</th>\n",
       "      <td>chouhanshivraj vdsharmabjp</td>\n",
       "      <td>174</td>\n",
       "    </tr>\n",
       "    <tr>\n",
       "      <th>12</th>\n",
       "      <td>मध यप</td>\n",
       "      <td>161</td>\n",
       "    </tr>\n",
       "    <tr>\n",
       "      <th>13</th>\n",
       "      <td>bjp4mp https</td>\n",
       "      <td>146</td>\n",
       "    </tr>\n",
       "    <tr>\n",
       "      <th>14</th>\n",
       "      <td>रत जनत</td>\n",
       "      <td>131</td>\n",
       "    </tr>\n",
       "    <tr>\n",
       "      <th>15</th>\n",
       "      <td>कर रह</td>\n",
       "      <td>118</td>\n",
       "    </tr>\n",
       "    <tr>\n",
       "      <th>16</th>\n",
       "      <td>यक रम</td>\n",
       "      <td>112</td>\n",
       "    </tr>\n",
       "    <tr>\n",
       "      <th>17</th>\n",
       "      <td>मद बध</td>\n",
       "      <td>106</td>\n",
       "    </tr>\n",
       "    <tr>\n",
       "      <th>18</th>\n",
       "      <td>narendramodi pmoindia</td>\n",
       "      <td>102</td>\n",
       "    </tr>\n",
       "    <tr>\n",
       "      <th>19</th>\n",
       "      <td>narendramodi amitshah</td>\n",
       "      <td>100</td>\n",
       "    </tr>\n",
       "  </tbody>\n",
       "</table>\n",
       "</div>"
      ],
      "text/plain": [
       "                          word  count\n",
       "0                     https co   2130\n",
       "1             bjp4india bjp4mp    465\n",
       "2                        भक मन    408\n",
       "3             bjp4mp bjp4india    276\n",
       "4                        जन मद    265\n",
       "5                        अध यक    233\n",
       "6                        रध नम    193\n",
       "7                        बध एव    192\n",
       "8                        एव भक    183\n",
       "9              bjp4india https    182\n",
       "10                       यप रद    180\n",
       "11  chouhanshivraj vdsharmabjp    174\n",
       "12                       मध यप    161\n",
       "13                bjp4mp https    146\n",
       "14                      रत जनत    131\n",
       "15                       कर रह    118\n",
       "16                       यक रम    112\n",
       "17                       मद बध    106\n",
       "18       narendramodi pmoindia    102\n",
       "19       narendramodi amitshah    100"
      ]
     },
     "execution_count": 18,
     "metadata": {},
     "output_type": "execute_result"
    }
   ],
   "source": [
    "get_n_grams(df.content,2,2,20)"
   ]
  },
  {
   "cell_type": "code",
   "execution_count": 19,
   "id": "8ed4b653",
   "metadata": {},
   "outputs": [
    {
     "data": {
      "image/png": "[encoded data removed]",
      "text/plain": [
       "<Figure size 720x360 with 1 Axes>"
      ]
     },
     "metadata": {
      "needs_background": "light"
     },
     "output_type": "display_data"
    },
    {
     "data": {
      "text/html": [
       "<div>\n",
       "<style scoped>\n",
       "    .dataframe tbody tr th:only-of-type {\n",
       "        vertical-align: middle;\n",
       "    }\n",
       "\n",
       "    .dataframe tbody tr th {\n",
       "        vertical-align: top;\n",
       "    }\n",
       "\n",
       "    .dataframe thead th {\n",
       "        text-align: right;\n",
       "    }\n",
       "</style>\n",
       "<table border=\"1\" class=\"dataframe\">\n",
       "  <thead>\n",
       "    <tr style=\"text-align: right;\">\n",
       "      <th></th>\n",
       "      <th>word</th>\n",
       "      <th>count</th>\n",
       "    </tr>\n",
       "  </thead>\n",
       "  <tbody>\n",
       "    <tr>\n",
       "      <th>0</th>\n",
       "      <td>bjp4india</td>\n",
       "      <td>1877</td>\n",
       "    </tr>\n",
       "    <tr>\n",
       "      <th>1</th>\n",
       "      <td>पर</td>\n",
       "      <td>1215</td>\n",
       "    </tr>\n",
       "    <tr>\n",
       "      <th>2</th>\n",
       "      <td>bjp4mp</td>\n",
       "      <td>1134</td>\n",
       "    </tr>\n",
       "    <tr>\n",
       "      <th>3</th>\n",
       "      <td>bjp</td>\n",
       "      <td>1047</td>\n",
       "    </tr>\n",
       "    <tr>\n",
       "      <th>4</th>\n",
       "      <td>कर</td>\n",
       "      <td>1007</td>\n",
       "    </tr>\n",
       "    <tr>\n",
       "      <th>5</th>\n",
       "      <td>narendramodi</td>\n",
       "      <td>817</td>\n",
       "    </tr>\n",
       "    <tr>\n",
       "      <th>6</th>\n",
       "      <td>मह</td>\n",
       "      <td>817</td>\n",
       "    </tr>\n",
       "    <tr>\n",
       "      <th>7</th>\n",
       "      <td>और</td>\n",
       "      <td>799</td>\n",
       "    </tr>\n",
       "    <tr>\n",
       "      <th>8</th>\n",
       "      <td>रह</td>\n",
       "      <td>765</td>\n",
       "    </tr>\n",
       "    <tr>\n",
       "      <th>9</th>\n",
       "      <td>रत</td>\n",
       "      <td>753</td>\n",
       "    </tr>\n",
       "    <tr>\n",
       "      <th>10</th>\n",
       "      <td>chouhanshivraj</td>\n",
       "      <td>724</td>\n",
       "    </tr>\n",
       "    <tr>\n",
       "      <th>11</th>\n",
       "      <td>मन</td>\n",
       "      <td>645</td>\n",
       "    </tr>\n",
       "    <tr>\n",
       "      <th>12</th>\n",
       "      <td>एव</td>\n",
       "      <td>636</td>\n",
       "    </tr>\n",
       "    <tr>\n",
       "      <th>13</th>\n",
       "      <td>रद</td>\n",
       "      <td>602</td>\n",
       "    </tr>\n",
       "    <tr>\n",
       "      <th>14</th>\n",
       "      <td>यक</td>\n",
       "      <td>594</td>\n",
       "    </tr>\n",
       "    <tr>\n",
       "      <th>15</th>\n",
       "      <td>जन</td>\n",
       "      <td>563</td>\n",
       "    </tr>\n",
       "    <tr>\n",
       "      <th>16</th>\n",
       "      <td>vdsharmabjp</td>\n",
       "      <td>533</td>\n",
       "    </tr>\n",
       "    <tr>\n",
       "      <th>17</th>\n",
       "      <td>pmoindia</td>\n",
       "      <td>511</td>\n",
       "    </tr>\n",
       "    <tr>\n",
       "      <th>18</th>\n",
       "      <td>नह</td>\n",
       "      <td>464</td>\n",
       "    </tr>\n",
       "    <tr>\n",
       "      <th>19</th>\n",
       "      <td>वर</td>\n",
       "      <td>458</td>\n",
       "    </tr>\n",
       "  </tbody>\n",
       "</table>\n",
       "</div>"
      ],
      "text/plain": [
       "              word  count\n",
       "0        bjp4india   1877\n",
       "1               पर   1215\n",
       "2           bjp4mp   1134\n",
       "3              bjp   1047\n",
       "4               कर   1007\n",
       "5     narendramodi    817\n",
       "6               मह    817\n",
       "7               और    799\n",
       "8               रह    765\n",
       "9               रत    753\n",
       "10  chouhanshivraj    724\n",
       "11              मन    645\n",
       "12              एव    636\n",
       "13              रद    602\n",
       "14              यक    594\n",
       "15              जन    563\n",
       "16     vdsharmabjp    533\n",
       "17        pmoindia    511\n",
       "18              नह    464\n",
       "19              वर    458"
      ]
     },
     "execution_count": 19,
     "metadata": {},
     "output_type": "execute_result"
    }
   ],
   "source": [
    "get_n_grams(df.clean,1,1,20)"
   ]
  },
  {
   "cell_type": "code",
   "execution_count": 21,
   "id": "0981eb8c",
   "metadata": {},
   "outputs": [
    {
     "data": {
      "image/png": "[encoded data removed]",
      "text/plain": [
       "<Figure size 720x360 with 1 Axes>"
      ]
     },
     "metadata": {
      "needs_background": "light"
     },
     "output_type": "display_data"
    },
    {
     "data": {
      "text/html": [
       "<div>\n",
       "<style scoped>\n",
       "    .dataframe tbody tr th:only-of-type {\n",
       "        vertical-align: middle;\n",
       "    }\n",
       "\n",
       "    .dataframe tbody tr th {\n",
       "        vertical-align: top;\n",
       "    }\n",
       "\n",
       "    .dataframe thead th {\n",
       "        text-align: right;\n",
       "    }\n",
       "</style>\n",
       "<table border=\"1\" class=\"dataframe\">\n",
       "  <thead>\n",
       "    <tr style=\"text-align: right;\">\n",
       "      <th></th>\n",
       "      <th>word</th>\n",
       "      <th>count</th>\n",
       "    </tr>\n",
       "  </thead>\n",
       "  <tbody>\n",
       "    <tr>\n",
       "      <th>0</th>\n",
       "      <td>bjp4india bjp4mp</td>\n",
       "      <td>464</td>\n",
       "    </tr>\n",
       "    <tr>\n",
       "      <th>1</th>\n",
       "      <td>भक मन</td>\n",
       "      <td>408</td>\n",
       "    </tr>\n",
       "    <tr>\n",
       "      <th>2</th>\n",
       "      <td>bjp4mp bjp4india</td>\n",
       "      <td>275</td>\n",
       "    </tr>\n",
       "    <tr>\n",
       "      <th>3</th>\n",
       "      <td>जन मद</td>\n",
       "      <td>265</td>\n",
       "    </tr>\n",
       "    <tr>\n",
       "      <th>4</th>\n",
       "      <td>अध यक</td>\n",
       "      <td>233</td>\n",
       "    </tr>\n",
       "    <tr>\n",
       "      <th>5</th>\n",
       "      <td>रध नम</td>\n",
       "      <td>194</td>\n",
       "    </tr>\n",
       "    <tr>\n",
       "      <th>6</th>\n",
       "      <td>बध एव</td>\n",
       "      <td>192</td>\n",
       "    </tr>\n",
       "    <tr>\n",
       "      <th>7</th>\n",
       "      <td>मध यप</td>\n",
       "      <td>187</td>\n",
       "    </tr>\n",
       "    <tr>\n",
       "      <th>8</th>\n",
       "      <td>यप रद</td>\n",
       "      <td>187</td>\n",
       "    </tr>\n",
       "    <tr>\n",
       "      <th>9</th>\n",
       "      <td>एव भक</td>\n",
       "      <td>183</td>\n",
       "    </tr>\n",
       "    <tr>\n",
       "      <th>10</th>\n",
       "      <td>chouhanshivraj vdsharmabjp</td>\n",
       "      <td>174</td>\n",
       "    </tr>\n",
       "    <tr>\n",
       "      <th>11</th>\n",
       "      <td>रत जनत</td>\n",
       "      <td>131</td>\n",
       "    </tr>\n",
       "    <tr>\n",
       "      <th>12</th>\n",
       "      <td>कर रह</td>\n",
       "      <td>118</td>\n",
       "    </tr>\n",
       "    <tr>\n",
       "      <th>13</th>\n",
       "      <td>यक रम</td>\n",
       "      <td>112</td>\n",
       "    </tr>\n",
       "    <tr>\n",
       "      <th>14</th>\n",
       "      <td>मद बध</td>\n",
       "      <td>106</td>\n",
       "    </tr>\n",
       "    <tr>\n",
       "      <th>15</th>\n",
       "      <td>narendramodi amitshah</td>\n",
       "      <td>103</td>\n",
       "    </tr>\n",
       "    <tr>\n",
       "      <th>16</th>\n",
       "      <td>narendramodi pmoindia</td>\n",
       "      <td>102</td>\n",
       "    </tr>\n",
       "    <tr>\n",
       "      <th>17</th>\n",
       "      <td>नम narendramodi</td>\n",
       "      <td>87</td>\n",
       "    </tr>\n",
       "    <tr>\n",
       "      <th>18</th>\n",
       "      <td>bjp4mp chouhanshivraj</td>\n",
       "      <td>83</td>\n",
       "    </tr>\n",
       "    <tr>\n",
       "      <th>19</th>\n",
       "      <td>vdsharmabjp hitanandsharma</td>\n",
       "      <td>82</td>\n",
       "    </tr>\n",
       "  </tbody>\n",
       "</table>\n",
       "</div>"
      ],
      "text/plain": [
       "                          word  count\n",
       "0             bjp4india bjp4mp    464\n",
       "1                        भक मन    408\n",
       "2             bjp4mp bjp4india    275\n",
       "3                        जन मद    265\n",
       "4                        अध यक    233\n",
       "5                        रध नम    194\n",
       "6                        बध एव    192\n",
       "7                        मध यप    187\n",
       "8                        यप रद    187\n",
       "9                        एव भक    183\n",
       "10  chouhanshivraj vdsharmabjp    174\n",
       "11                      रत जनत    131\n",
       "12                       कर रह    118\n",
       "13                       यक रम    112\n",
       "14                       मद बध    106\n",
       "15       narendramodi amitshah    103\n",
       "16       narendramodi pmoindia    102\n",
       "17             नम narendramodi     87\n",
       "18       bjp4mp chouhanshivraj     83\n",
       "19  vdsharmabjp hitanandsharma     82"
      ]
     },
     "execution_count": 21,
     "metadata": {},
     "output_type": "execute_result"
    }
   ],
   "source": [
    "get_n_grams(df.clean,2,2,20)"
   ]
  },
  {
   "cell_type": "code",
   "execution_count": 10,
   "id": "99fbcaa3",
   "metadata": {},
   "outputs": [],
   "source": [
    " train_text=df.clean\n",
    "train_on=df.label"
   ]
  },
  {
   "cell_type": "code",
   "execution_count": 11,
   "id": "44d8fbf4",
   "metadata": {},
   "outputs": [],
   "source": [
    "df2=pd.read_csv('generic_sentiment_dataset_10k.csv')"
   ]
  },
  {
   "cell_type": "code",
   "execution_count": 19,
   "id": "188e0259",
   "metadata": {},
   "outputs": [
    {
     "data": {
      "text/plain": [
       "(10000, 3)"
      ]
     },
     "execution_count": 19,
     "metadata": {},
     "output_type": "execute_result"
    }
   ],
   "source": [
    "\n",
    "df2.shape"
   ]
  },
  {
   "cell_type": "code",
   "execution_count": 20,
   "id": "e17b3bd5",
   "metadata": {},
   "outputs": [
    {
     "data": {
      "text/html": [
       "<div>\n",
       "<style scoped>\n",
       "    .dataframe tbody tr th:only-of-type {\n",
       "        vertical-align: middle;\n",
       "    }\n",
       "\n",
       "    .dataframe tbody tr th {\n",
       "        vertical-align: top;\n",
       "    }\n",
       "\n",
       "    .dataframe thead th {\n",
       "        text-align: right;\n",
       "    }\n",
       "</style>\n",
       "<table border=\"1\" class=\"dataframe\">\n",
       "  <thead>\n",
       "    <tr style=\"text-align: right;\">\n",
       "      <th></th>\n",
       "      <th>sentiment</th>\n",
       "      <th>text</th>\n",
       "      <th>label</th>\n",
       "    </tr>\n",
       "  </thead>\n",
       "  <tbody>\n",
       "    <tr>\n",
       "      <th>0</th>\n",
       "      <td>neutral</td>\n",
       "      <td>Camera good</td>\n",
       "      <td>1</td>\n",
       "    </tr>\n",
       "    <tr>\n",
       "      <th>1</th>\n",
       "      <td>negative</td>\n",
       "      <td>OMG! I KNOW!  I give myself a stroke everytim...</td>\n",
       "      <td>0</td>\n",
       "    </tr>\n",
       "    <tr>\n",
       "      <th>2</th>\n",
       "      <td>neutral</td>\n",
       "      <td>Good</td>\n",
       "      <td>1</td>\n",
       "    </tr>\n",
       "    <tr>\n",
       "      <th>3</th>\n",
       "      <td>positive</td>\n",
       "      <td>The company recorded revenues of E658 .1 milli...</td>\n",
       "      <td>2</td>\n",
       "    </tr>\n",
       "    <tr>\n",
       "      <th>4</th>\n",
       "      <td>positive</td>\n",
       "      <td>All is good</td>\n",
       "      <td>2</td>\n",
       "    </tr>\n",
       "  </tbody>\n",
       "</table>\n",
       "</div>"
      ],
      "text/plain": [
       "  sentiment                                               text  label\n",
       "0   neutral                                        Camera good      1\n",
       "1  negative   OMG! I KNOW!  I give myself a stroke everytim...      0\n",
       "2   neutral                                               Good      1\n",
       "3  positive  The company recorded revenues of E658 .1 milli...      2\n",
       "4  positive                                        All is good      2"
      ]
     },
     "execution_count": 20,
     "metadata": {},
     "output_type": "execute_result"
    }
   ],
   "source": [
    "df2.head()"
   ]
  },
  {
   "cell_type": "code",
   "execution_count": 12,
   "id": "31df7da1",
   "metadata": {},
   "outputs": [],
   "source": [
    "df2['clean']=df2['text'].apply(preprocess_text)\n",
    "df2.drop(df2[(df2['label']==1)].index, inplace=True,axis=0)"
   ]
  },
  {
   "cell_type": "code",
   "execution_count": 13,
   "id": "cb89a4dc",
   "metadata": {},
   "outputs": [],
   "source": [
    "test_text=df2.clean\n",
    "test_on=df2.label"
   ]
  },
  {
   "cell_type": "code",
   "execution_count": 14,
   "id": "5864fecc",
   "metadata": {},
   "outputs": [],
   "source": [
    "from sklearn.pipeline import Pipeline"
   ]
  },
  {
   "cell_type": "code",
   "execution_count": 15,
   "id": "c59a9288",
   "metadata": {},
   "outputs": [],
   "source": [
    "def diffmodel(mod,train_text,train_on,test_text,test_on):\n",
    "    try:\n",
    "        model=Pipeline([('vectorizer',TfidfVectorizer()),('classifier',mod)])\n",
    "        model.fit(train_text,train_on)\n",
    "        prediction=model.predict(test_text)\n",
    "        print(model['classifier'])\n",
    "        print(\"Accuracy : \", accuracy_score(prediction,test_on))\n",
    "        print(\"precision : \", precision_score(prediction,test_on,average='weighted'))\n",
    "    except:\n",
    "        print('can\\'t',mod)"
   ]
  },
  {
   "cell_type": "code",
   "execution_count": null,
   "id": "8fe605d7",
   "metadata": {},
   "outputs": [],
   "source": []
  },
  {
   "cell_type": "code",
   "execution_count": null,
   "id": "265a31f7",
   "metadata": {},
   "outputs": [],
   "source": []
  },
  {
   "cell_type": "code",
   "execution_count": null,
   "id": "d4a67913",
   "metadata": {},
   "outputs": [],
   "source": []
  },
  {
   "cell_type": "code",
   "execution_count": 28,
   "id": "d92596c0",
   "metadata": {},
   "outputs": [
    {
     "name": "stdout",
     "output_type": "stream",
     "text": [
      "NEGATIVE\n",
      "POSITIVE\n",
      "POSITIVE\n",
      "POSITIVE\n",
      "NEGATIVE\n",
      "NEGATIVE\n",
      "NEGATIVE\n"
     ]
    }
   ],
   "source": [
    "example = ['i m worst',\n",
    "           'i m okay',\n",
    "           'what is this phone',\n",
    "           'battery life is good',\n",
    "           'battery life is bad',\n",
    "           'Battery Problem After 05 Month',\n",
    "           'Phone stoped working after 5 months'\n",
    "          ]\n",
    "change=np.vectorize(preprocess_text)\n",
    "example=change(example)\n",
    "res=model.predict(example)\n",
    "for i in res:\n",
    "    if (i==0):\n",
    "        print('NEGATIVE')\n",
    "    else: \n",
    "        print('POSITIVE')"
   ]
  },
  {
   "cell_type": "code",
   "execution_count": 27,
   "id": "1d58a6e2",
   "metadata": {},
   "outputs": [],
   "source": [
    "models = [LogisticRegression(),SVC()]"
   ]
  },
  {
   "cell_type": "code",
   "execution_count": 18,
   "id": "dcc9a82a",
   "metadata": {},
   "outputs": [],
   "source": [
    "from sklearn.ensemble import RandomForestClassifier, ExtraTreesClassifier\n",
    "from sklearn.neighbors import KNeighborsClassifier"
   ]
  },
  {
   "cell_type": "code",
   "execution_count": null,
   "id": "74ca3a0b",
   "metadata": {},
   "outputs": [
    {
     "name": "stderr",
     "output_type": "stream",
     "text": [
      " 50%|██████████████████████████████████████████                                          | 1/2 [00:08<00:08,  8.38s/it]"
     ]
    },
    {
     "name": "stdout",
     "output_type": "stream",
     "text": [
      "LogisticRegression()\n",
      "Accuracy :  0.8957995762183721\n",
      "precision :  0.8966375789618328\n"
     ]
    }
   ],
   "source": [
    "for mod in tqdm(models):\n",
    "    diffmodel(mod,train_text,train_on,test_text,test_on)"
   ]
  },
  {
   "cell_type": "code",
   "execution_count": 28,
   "id": "6d619b75",
   "metadata": {},
   "outputs": [],
   "source": [
    "from tqdm import tqdm"
   ]
  },
  {
   "cell_type": "code",
   "execution_count": 16,
   "id": "3faf4297",
   "metadata": {},
   "outputs": [
    {
     "name": "stdout",
     "output_type": "stream",
     "text": [
      "LogisticRegression()\n",
      "Accuracy :  0.8957995762183721\n",
      "precision :  0.8966375789618328\n"
     ]
    }
   ],
   "source": [
    "diffmodel(LogisticRegression(),train_text,train_on,test_text,test_on)"
   ]
  },
  {
   "cell_type": "code",
   "execution_count": 17,
   "id": "522d4c96",
   "metadata": {},
   "outputs": [
    {
     "name": "stdout",
     "output_type": "stream",
     "text": [
      "SVC()\n",
      "Accuracy :  0.9037766421538078\n",
      "precision :  0.9043147977621473\n"
     ]
    }
   ],
   "source": [
    "diffmodel(SVC(),train_text,train_on,test_text,test_on)"
   ]
  },
  {
   "cell_type": "code",
   "execution_count": 19,
   "id": "85eda5ed",
   "metadata": {},
   "outputs": [
    {
     "name": "stdout",
     "output_type": "stream",
     "text": [
      "ExtraTreesClassifier()\n",
      "Accuracy :  0.8955502929078898\n",
      "precision :  0.8971697335980305\n"
     ]
    }
   ],
   "source": [
    " diffmodel(ExtraTreesClassifier(),train_text,train_on,test_text,test_on)"
   ]
  },
  {
   "cell_type": "code",
   "execution_count": 20,
   "id": "d227b0c1",
   "metadata": {},
   "outputs": [
    {
     "name": "stdout",
     "output_type": "stream",
     "text": [
      "KNeighborsClassifier()\n",
      "Accuracy :  0.722672317088371\n",
      "precision :  0.8285587002164666\n"
     ]
    }
   ],
   "source": [
    " diffmodel(KNeighborsClassifier(),train_text,train_on,test_text,test_on)"
   ]
  },
  {
   "cell_type": "code",
   "execution_count": 21,
   "id": "18e57030",
   "metadata": {},
   "outputs": [
    {
     "name": "stdout",
     "output_type": "stream",
     "text": [
      "RandomForestClassifier()\n",
      "Accuracy :  0.8950517262869251\n",
      "precision :  0.8965397403631254\n"
     ]
    }
   ],
   "source": [
    "diffmodel(RandomForestClassifier(),train_text,train_on,test_text,test_on)"
   ]
  },
  {
   "cell_type": "code",
   "execution_count": null,
   "id": "29b039bb",
   "metadata": {},
   "outputs": [],
   "source": [
    " "
   ]
  }
 ],
 "metadata": {
  "kernelspec": {
   "display_name": "Python 3 (ipykernel)",
   "language": "python",
   "name": "python3"
  },
  "language_info": {
   "codemirror_mode": {
    "name": "ipython",
    "version": 3
   },
   "file_extension": ".py",
   "mimetype": "text/x-python",
   "name": "python",
   "nbconvert_exporter": "python",
   "pygments_lexer": "ipython3",
   "version": "3.9.12"
  }
 },
 "nbformat": 4,
 "nbformat_minor": 5
}
