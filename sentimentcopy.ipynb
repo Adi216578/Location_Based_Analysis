{
 "cells": [
  {
   "cell_type": "code",
   "execution_count": 1,
   "id": "fc4566e8",
   "metadata": {},
   "outputs": [],
   "source": [
    "import pandas as pd\n",
    "import numpy as np\n",
    "import re\n",
    "import string\n",
    "import seaborn as sns\n",
    "import matplotlib.pyplot as plt"
   ]
  },
  {
   "cell_type": "code",
   "execution_count": 2,
   "id": "f247091d",
   "metadata": {},
   "outputs": [],
   "source": [
    "from nltk.corpus import stopwords\n",
    "from nltk.tokenize import word_tokenize\n",
    "from nltk.stem import PorterStemmer\n",
    "from nltk.stem import WordNetLemmatizer\n",
    "from sklearn.feature_extraction.text import TfidfVectorizer , CountVectorizer\n",
    "from sklearn.model_selection import train_test_split"
   ]
  },
  {
   "cell_type": "code",
   "execution_count": 3,
   "id": "9df43997",
   "metadata": {},
   "outputs": [],
   "source": [
    "from sklearn.metrics import accuracy_score , confusion_matrix , precision_score\n",
    "from sklearn.naive_bayes import MultinomialNB\n",
    "from sklearn.linear_model import LogisticRegression\n",
    "from sklearn.svm import SVC\n",
    "import warnings\n",
    "warnings.filterwarnings(\"ignore\")"
   ]
  },
  {
   "cell_type": "code",
   "execution_count": 4,
   "id": "1092a813",
   "metadata": {},
   "outputs": [
    {
     "name": "stderr",
     "output_type": "stream",
     "text": [
      "[nltk_data] Downloading package stopwords to C:\\Users\\Anshuman\n",
      "[nltk_data]     Vashishtha\\AppData\\Roaming\\nltk_data...\n",
      "[nltk_data]   Unzipping corpora\\stopwords.zip.\n",
      "[nltk_data] Downloading package punkt to C:\\Users\\Anshuman\n",
      "[nltk_data]     Vashishtha\\AppData\\Roaming\\nltk_data...\n",
      "[nltk_data]   Unzipping tokenizers\\punkt.zip.\n",
      "[nltk_data] Downloading package omw-1.4 to C:\\Users\\Anshuman\n",
      "[nltk_data]     Vashishtha\\AppData\\Roaming\\nltk_data...\n",
      "[nltk_data] Downloading package wordnet to C:\\Users\\Anshuman\n",
      "[nltk_data]     Vashishtha\\AppData\\Roaming\\nltk_data...\n"
     ]
    },
    {
     "data": {
      "text/plain": [
       "True"
      ]
     },
     "execution_count": 4,
     "metadata": {},
     "output_type": "execute_result"
    }
   ],
   "source": [
    "import nltk \n",
    "nltk.download('stopwords')\n",
    "stop_words=set(stopwords.words('english'))\n",
    "stop_words.remove('not')\n",
    "nltk.download('punkt')\n",
    "nltk.download('omw-1.4')\n",
    "nltk.download('wordnet')"
   ]
  },
  {
   "cell_type": "code",
   "execution_count": 5,
   "id": "e13e3ef6",
   "metadata": {},
   "outputs": [],
   "source": [
    " df=pd.read_csv('up.csv')"
   ]
  },
  {
   "cell_type": "code",
   "execution_count": 8,
   "id": "d74ff59e",
   "metadata": {},
   "outputs": [],
   "source": [
    "df=df[df['content'].str.len()>200]"
   ]
  },
  {
   "cell_type": "code",
   "execution_count": 21,
   "id": "79028532",
   "metadata": {},
   "outputs": [
    {
     "data": {
      "text/html": [
       "<div>\n",
       "<style scoped>\n",
       "    .dataframe tbody tr th:only-of-type {\n",
       "        vertical-align: middle;\n",
       "    }\n",
       "\n",
       "    .dataframe tbody tr th {\n",
       "        vertical-align: top;\n",
       "    }\n",
       "\n",
       "    .dataframe thead th {\n",
       "        text-align: right;\n",
       "    }\n",
       "</style>\n",
       "<table border=\"1\" class=\"dataframe\">\n",
       "  <thead>\n",
       "    <tr style=\"text-align: right;\">\n",
       "      <th></th>\n",
       "      <th>date</th>\n",
       "      <th>content</th>\n",
       "      <th>clean</th>\n",
       "    </tr>\n",
       "  </thead>\n",
       "  <tbody>\n",
       "    <tr>\n",
       "      <th>0</th>\n",
       "      <td>2022-10-19 18:10:31+00:00</td>\n",
       "      <td>@sambitswaraj @narendramodi एक ज़माना था जब दे...</td>\n",
       "      <td>sambitswaraj narendramodi एक ज़माना था जब देश ...</td>\n",
       "    </tr>\n",
       "    <tr>\n",
       "      <th>10</th>\n",
       "      <td>2022-10-19 18:02:11+00:00</td>\n",
       "      <td>Punjab University के छात्र संघ चुनाव में, AAP ...</td>\n",
       "      <td>punjab univers के छात्र संघ चुनाव में aap के छ...</td>\n",
       "    </tr>\n",
       "    <tr>\n",
       "      <th>15</th>\n",
       "      <td>2022-10-19 17:56:26+00:00</td>\n",
       "      <td>@Uppolice की मानवता भी देखिए। यह वही पुलिस है ...</td>\n",
       "      <td>uppolic की मानवता भी देखिए। यह वही पुलिस है जि...</td>\n",
       "    </tr>\n",
       "    <tr>\n",
       "      <th>22</th>\n",
       "      <td>2022-10-19 17:44:30+00:00</td>\n",
       "      <td>@nmanikandaprab4 @Nivshetty @NehaShalini2 @She...</td>\n",
       "      <td>nmanikandaprab4 nivshetti nehashalini2 sheetal...</td>\n",
       "    </tr>\n",
       "    <tr>\n",
       "      <th>23</th>\n",
       "      <td>2022-10-19 17:43:11+00:00</td>\n",
       "      <td>Deepak sharma aisa journalist hii jisko lag rh...</td>\n",
       "      <td>deepak sharma aisa journalist hii jisko lag rh...</td>\n",
       "    </tr>\n",
       "    <tr>\n",
       "      <th>...</th>\n",
       "      <td>...</td>\n",
       "      <td>...</td>\n",
       "      <td>...</td>\n",
       "    </tr>\n",
       "    <tr>\n",
       "      <th>9986</th>\n",
       "      <td>2022-10-05 07:55:52+00:00</td>\n",
       "      <td>समस्त देशवासियों को #असत्य पर #सत्य,#अधर्म पर ...</td>\n",
       "      <td>समस्त देशवासियों को असत्य पर सत्यअधर्म पर धर्म...</td>\n",
       "    </tr>\n",
       "    <tr>\n",
       "      <th>9993</th>\n",
       "      <td>2022-10-05 07:00:09+00:00</td>\n",
       "      <td>समस्त देशवासियों को #विजयादशमी की हार्दिक शुभक...</td>\n",
       "      <td>समस्त देशवासियों को विजयादशमी की हार्दिक शुभका...</td>\n",
       "    </tr>\n",
       "    <tr>\n",
       "      <th>9997</th>\n",
       "      <td>2022-10-05 06:54:51+00:00</td>\n",
       "      <td>Happy Dussehra! This Dussehra lets kill the Ra...</td>\n",
       "      <td>happi dussehra dussehra let kill raavan within...</td>\n",
       "    </tr>\n",
       "    <tr>\n",
       "      <th>9998</th>\n",
       "      <td>2022-10-05 06:48:44+00:00</td>\n",
       "      <td>नगर पंचायत बंथरा                       Bharati...</td>\n",
       "      <td>नगर पंचायत बंथरा bharatiya janata parti bjp bj...</td>\n",
       "    </tr>\n",
       "    <tr>\n",
       "      <th>9999</th>\n",
       "      <td>2022-10-05 06:44:17+00:00</td>\n",
       "      <td>\"राष्ट्रीय स्वयंसेवक संघ\" के स्थापना दिवस पर स...</td>\n",
       "      <td>राष्ट्रीय स्वयंसेवक संघ के स्थापना दिवस पर सभी...</td>\n",
       "    </tr>\n",
       "  </tbody>\n",
       "</table>\n",
       "<p>3500 rows × 3 columns</p>\n",
       "</div>"
      ],
      "text/plain": [
       "                           date  \\\n",
       "0     2022-10-19 18:10:31+00:00   \n",
       "10    2022-10-19 18:02:11+00:00   \n",
       "15    2022-10-19 17:56:26+00:00   \n",
       "22    2022-10-19 17:44:30+00:00   \n",
       "23    2022-10-19 17:43:11+00:00   \n",
       "...                         ...   \n",
       "9986  2022-10-05 07:55:52+00:00   \n",
       "9993  2022-10-05 07:00:09+00:00   \n",
       "9997  2022-10-05 06:54:51+00:00   \n",
       "9998  2022-10-05 06:48:44+00:00   \n",
       "9999  2022-10-05 06:44:17+00:00   \n",
       "\n",
       "                                                content  \\\n",
       "0     @sambitswaraj @narendramodi एक ज़माना था जब दे...   \n",
       "10    Punjab University के छात्र संघ चुनाव में, AAP ...   \n",
       "15    @Uppolice की मानवता भी देखिए। यह वही पुलिस है ...   \n",
       "22    @nmanikandaprab4 @Nivshetty @NehaShalini2 @She...   \n",
       "23    Deepak sharma aisa journalist hii jisko lag rh...   \n",
       "...                                                 ...   \n",
       "9986  समस्त देशवासियों को #असत्य पर #सत्य,#अधर्म पर ...   \n",
       "9993  समस्त देशवासियों को #विजयादशमी की हार्दिक शुभक...   \n",
       "9997  Happy Dussehra! This Dussehra lets kill the Ra...   \n",
       "9998  नगर पंचायत बंथरा                       Bharati...   \n",
       "9999  \"राष्ट्रीय स्वयंसेवक संघ\" के स्थापना दिवस पर स...   \n",
       "\n",
       "                                                  clean  \n",
       "0     sambitswaraj narendramodi एक ज़माना था जब देश ...  \n",
       "10    punjab univers के छात्र संघ चुनाव में aap के छ...  \n",
       "15    uppolic की मानवता भी देखिए। यह वही पुलिस है जि...  \n",
       "22    nmanikandaprab4 nivshetti nehashalini2 sheetal...  \n",
       "23    deepak sharma aisa journalist hii jisko lag rh...  \n",
       "...                                                 ...  \n",
       "9986  समस्त देशवासियों को असत्य पर सत्यअधर्म पर धर्म...  \n",
       "9993  समस्त देशवासियों को विजयादशमी की हार्दिक शुभका...  \n",
       "9997  happi dussehra dussehra let kill raavan within...  \n",
       "9998  नगर पंचायत बंथरा bharatiya janata parti bjp bj...  \n",
       "9999  राष्ट्रीय स्वयंसेवक संघ के स्थापना दिवस पर सभी...  \n",
       "\n",
       "[3500 rows x 3 columns]"
      ]
     },
     "execution_count": 21,
     "metadata": {},
     "output_type": "execute_result"
    }
   ],
   "source": [
    "df"
   ]
  },
  {
   "cell_type": "code",
   "execution_count": 9,
   "id": "dd503d87",
   "metadata": {},
   "outputs": [
    {
     "data": {
      "text/plain": [
       "Index(['sentiment', 'text', 'label'], dtype='object')"
      ]
     },
     "execution_count": 9,
     "metadata": {},
     "output_type": "execute_result"
    }
   ],
   "source": [
    "df.columns"
   ]
  },
  {
   "cell_type": "code",
   "execution_count": null,
   "id": "2d29f7c5",
   "metadata": {},
   "outputs": [],
   "source": [
    "# 2 for positive \n",
    "# 0 for negative"
   ]
  },
  {
   "cell_type": "code",
   "execution_count": 16,
   "id": "26ad226f",
   "metadata": {},
   "outputs": [],
   "source": [
    " df=df.drop('Unnamed: 0',axis=1)"
   ]
  },
  {
   "cell_type": "code",
   "execution_count": 18,
   "id": "cd244d78",
   "metadata": {},
   "outputs": [],
   "source": [
    "def preprocess_text(text):\n",
    "    text=text.lower()\n",
    "    #remove urls\n",
    "    text=re.sub(r\"http\\S+|www\\S+|https\\S+\", \"\",text,flags=re.MULTILINE)\n",
    "    text=text.translate(str.maketrans(\"\", \"\",string.punctuation))\n",
    "    text=re.sub(r'\\@\\w+|\\#', \"\",text)\n",
    "    text_tokens=word_tokenize(text)\n",
    "    fil_words=[word for word in text_tokens if word not in stop_words]\n",
    "    \n",
    "    #stemming\n",
    "    ps=PorterStemmer()\n",
    "    stem_words=[ps.stem(w) for w in fil_words]\n",
    "    \n",
    "    #lemmatizing\n",
    "    lemmatizer = WordNetLemmatizer()\n",
    "    lem_words=[lemmatizer.lemmatize(w, pos='a') for w in stem_words]\n",
    "    \n",
    "    return \" \".join(lem_words)\n",
    "    \n",
    "\n",
    "     "
   ]
  },
  {
   "cell_type": "code",
   "execution_count": 28,
   "id": "e0827a48",
   "metadata": {},
   "outputs": [],
   "source": [
    "from textblob import TextBlob"
   ]
  },
  {
   "cell_type": "code",
   "execution_count": 29,
   "id": "a3306a21",
   "metadata": {},
   "outputs": [],
   "source": [
    "def sentiment_analysis(tweet):\n",
    " def getSubjectivity(text):\n",
    "   return TextBlob(text).sentiment.subjectivity\n",
    "  \n",
    " #Create a function to get the polarity\n",
    " def getPolarity(text):\n",
    "   return TextBlob(text).sentiment.polarity\n",
    "  \n",
    " #Create two new columns ‘Subjectivity’ & ‘Polarity’\n",
    " tweet['TextBlob_Subjectivity'] = tweet['content'].apply(getSubjectivity)\n",
    " tweet['TextBlob_Polarity'] = tweet['content'].apply(getPolarity)\n",
    " def getAnalysis(score):\n",
    "  if score < 0:\n",
    "    return 'Negative'\n",
    "  elif score == 0:\n",
    "    return 'Neutral'\n",
    "  else:\n",
    "    return 'Positive'\n",
    " tweet ['TextBlob_Analysis'] = tweet  ['TextBlob_Polarity'].apply(getAnalysis )\n",
    " return tweet"
   ]
  },
  {
   "cell_type": "code",
   "execution_count": 30,
   "id": "09bf2573",
   "metadata": {},
   "outputs": [],
   "source": [
    "dfnew=sentiment_analysis(df)"
   ]
  },
  {
   "cell_type": "code",
   "execution_count": null,
   "id": "048ded7d",
   "metadata": {},
   "outputs": [],
   "source": []
  },
  {
   "cell_type": "code",
   "execution_count": null,
   "id": "30d33433",
   "metadata": {},
   "outputs": [],
   "source": []
  },
  {
   "cell_type": "code",
   "execution_count": null,
   "id": "11c25b46",
   "metadata": {},
   "outputs": [],
   "source": []
  },
  {
   "cell_type": "code",
   "execution_count": null,
   "id": "62025a9e",
   "metadata": {},
   "outputs": [],
   "source": []
  },
  {
   "cell_type": "code",
   "execution_count": 31,
   "id": "224a2299",
   "metadata": {},
   "outputs": [
    {
     "data": {
      "image/png": "[encoded data removed]",
      "text/plain": [
       "<Figure size 432x288 with 1 Axes>"
      ]
     },
     "metadata": {
      "needs_background": "light"
     },
     "output_type": "display_data"
    }
   ],
   "source": [
    "sns.countplot(dfnew.TextBlob_Analysis)\n",
    "plt.show()"
   ]
  },
  {
   "cell_type": "code",
   "execution_count": 13,
   "id": "d60595e8",
   "metadata": {},
   "outputs": [
    {
     "data": {
      "text/plain": [
       "2    26180\n",
       "0    14165\n",
       "1     9655\n",
       "Name: label, dtype: int64"
      ]
     },
     "execution_count": 13,
     "metadata": {},
     "output_type": "execute_result"
    }
   ],
   "source": [
    "df.label.value_counts()"
   ]
  },
  {
   "cell_type": "code",
   "execution_count": 20,
   "id": "52497c62",
   "metadata": {},
   "outputs": [],
   "source": [
    "df['clean']=df['content'].apply(preprocess_text);"
   ]
  },
  {
   "cell_type": "code",
   "execution_count": 9,
   "id": "662b1ef3",
   "metadata": {},
   "outputs": [
    {
     "data": {
      "text/plain": [
       "(40345, 3)"
      ]
     },
     "execution_count": 9,
     "metadata": {},
     "output_type": "execute_result"
    }
   ],
   "source": [
    "df.drop(df[(df['label']==1)].index, inplace=True,axis=0)\n",
    "df.head()\n",
    "df.shape"
   ]
  },
  {
   "cell_type": "code",
   "execution_count": 19,
   "id": "174a0a9d",
   "metadata": {},
   "outputs": [],
   "source": [
    "def get_n_grams(text,low_n,high_n,top_number):\n",
    "    \n",
    "    # create vocabulary\n",
    "    vec = CountVectorizer(ngram_range=(low_n,high_n)).fit(text)\n",
    "    B_O_G = vec.transform(text)\n",
    "    \n",
    "    # Get words Count\n",
    "    words_count = B_O_G.sum(axis=0)\n",
    "    \n",
    "    # create list of words counts\n",
    "    word_counts_list = np.array(words_count)[0].tolist()\n",
    "    \n",
    "    # create tuple of word and words count\n",
    "    data = [ (word ,word_counts_list[idx]) for word,idx in vec.vocabulary_.items() ]\n",
    "    \n",
    "    # sort words by count descending\n",
    "    sorted_data = sorted(data,key=lambda x:x[1] ,reverse=True)\n",
    "    sorted_data = sorted_data[:top_number]\n",
    "    new_s = []\n",
    "    for d , n in sorted_data:\n",
    "        new_s.append([d ,n])\n",
    "    \n",
    "    del vec , data ,B_O_G ,words_count,word_counts_list ,sorted_data\n",
    "    plt.figure(figsize=(10,5))\n",
    "    sns.barplot(data = pd.DataFrame(new_s,columns=['word','count']),x='word',y='count')\n",
    "    plt.xticks(rotation=90)\n",
    "    plt.show()\n",
    "    \n",
    "    return pd.DataFrame(new_s,columns=['word','count'])"
   ]
  },
  {
   "cell_type": "code",
   "execution_count": 22,
   "id": "0b247227",
   "metadata": {},
   "outputs": [
    {
     "data": {
      "image/png": "[encoded data removed]",
      "text/plain": [
       "<Figure size 720x360 with 1 Axes>"
      ]
     },
     "metadata": {
      "needs_background": "light"
     },
     "output_type": "display_data"
    },
    {
     "data": {
      "text/html": [
       "<div>\n",
       "<style scoped>\n",
       "    .dataframe tbody tr th:only-of-type {\n",
       "        vertical-align: middle;\n",
       "    }\n",
       "\n",
       "    .dataframe tbody tr th {\n",
       "        vertical-align: top;\n",
       "    }\n",
       "\n",
       "    .dataframe thead th {\n",
       "        text-align: right;\n",
       "    }\n",
       "</style>\n",
       "<table border=\"1\" class=\"dataframe\">\n",
       "  <thead>\n",
       "    <tr style=\"text-align: right;\">\n",
       "      <th></th>\n",
       "      <th>word</th>\n",
       "      <th>count</th>\n",
       "    </tr>\n",
       "  </thead>\n",
       "  <tbody>\n",
       "    <tr>\n",
       "      <th>0</th>\n",
       "      <td>co</td>\n",
       "      <td>2158</td>\n",
       "    </tr>\n",
       "    <tr>\n",
       "      <th>1</th>\n",
       "      <td>https</td>\n",
       "      <td>2156</td>\n",
       "    </tr>\n",
       "    <tr>\n",
       "      <th>2</th>\n",
       "      <td>bjp4india</td>\n",
       "      <td>2072</td>\n",
       "    </tr>\n",
       "    <tr>\n",
       "      <th>3</th>\n",
       "      <td>कर</td>\n",
       "      <td>1590</td>\n",
       "    </tr>\n",
       "    <tr>\n",
       "      <th>4</th>\n",
       "      <td>bjp</td>\n",
       "      <td>1500</td>\n",
       "    </tr>\n",
       "    <tr>\n",
       "      <th>5</th>\n",
       "      <td>पर</td>\n",
       "      <td>1274</td>\n",
       "    </tr>\n",
       "    <tr>\n",
       "      <th>6</th>\n",
       "      <td>bjp4up</td>\n",
       "      <td>1225</td>\n",
       "    </tr>\n",
       "    <tr>\n",
       "      <th>7</th>\n",
       "      <td>narendramodi</td>\n",
       "      <td>1049</td>\n",
       "    </tr>\n",
       "    <tr>\n",
       "      <th>8</th>\n",
       "      <td>myogiadityanath</td>\n",
       "      <td>1048</td>\n",
       "    </tr>\n",
       "    <tr>\n",
       "      <th>9</th>\n",
       "      <td>रह</td>\n",
       "      <td>910</td>\n",
       "    </tr>\n",
       "    <tr>\n",
       "      <th>10</th>\n",
       "      <td>और</td>\n",
       "      <td>873</td>\n",
       "    </tr>\n",
       "    <tr>\n",
       "      <th>11</th>\n",
       "      <td>नह</td>\n",
       "      <td>791</td>\n",
       "    </tr>\n",
       "    <tr>\n",
       "      <th>12</th>\n",
       "      <td>pmoindia</td>\n",
       "      <td>690</td>\n",
       "    </tr>\n",
       "    <tr>\n",
       "      <th>13</th>\n",
       "      <td>jpnadda</td>\n",
       "      <td>657</td>\n",
       "    </tr>\n",
       "    <tr>\n",
       "      <th>14</th>\n",
       "      <td>रत</td>\n",
       "      <td>616</td>\n",
       "    </tr>\n",
       "    <tr>\n",
       "      <th>15</th>\n",
       "      <td>मह</td>\n",
       "      <td>569</td>\n",
       "    </tr>\n",
       "    <tr>\n",
       "      <th>16</th>\n",
       "      <td>यक</td>\n",
       "      <td>554</td>\n",
       "    </tr>\n",
       "    <tr>\n",
       "      <th>17</th>\n",
       "      <td>the</td>\n",
       "      <td>542</td>\n",
       "    </tr>\n",
       "    <tr>\n",
       "      <th>18</th>\n",
       "      <td>सम</td>\n",
       "      <td>538</td>\n",
       "    </tr>\n",
       "    <tr>\n",
       "      <th>19</th>\n",
       "      <td>amitshah</td>\n",
       "      <td>526</td>\n",
       "    </tr>\n",
       "  </tbody>\n",
       "</table>\n",
       "</div>"
      ],
      "text/plain": [
       "               word  count\n",
       "0                co   2158\n",
       "1             https   2156\n",
       "2         bjp4india   2072\n",
       "3                कर   1590\n",
       "4               bjp   1500\n",
       "5                पर   1274\n",
       "6            bjp4up   1225\n",
       "7      narendramodi   1049\n",
       "8   myogiadityanath   1048\n",
       "9                रह    910\n",
       "10               और    873\n",
       "11               नह    791\n",
       "12         pmoindia    690\n",
       "13          jpnadda    657\n",
       "14               रत    616\n",
       "15               मह    569\n",
       "16               यक    554\n",
       "17              the    542\n",
       "18               सम    538\n",
       "19         amitshah    526"
      ]
     },
     "execution_count": 22,
     "metadata": {},
     "output_type": "execute_result"
    }
   ],
   "source": [
    "get_n_grams(df.content,1,1,20)"
   ]
  },
  {
   "cell_type": "code",
   "execution_count": 23,
   "id": "c2572e49",
   "metadata": {},
   "outputs": [
    {
     "data": {
      "image/png": "[encoded data removed]",
      "text/plain": [
       "<Figure size 720x360 with 1 Axes>"
      ]
     },
     "metadata": {
      "needs_background": "light"
     },
     "output_type": "display_data"
    },
    {
     "data": {
      "text/html": [
       "<div>\n",
       "<style scoped>\n",
       "    .dataframe tbody tr th:only-of-type {\n",
       "        vertical-align: middle;\n",
       "    }\n",
       "\n",
       "    .dataframe tbody tr th {\n",
       "        vertical-align: top;\n",
       "    }\n",
       "\n",
       "    .dataframe thead th {\n",
       "        text-align: right;\n",
       "    }\n",
       "</style>\n",
       "<table border=\"1\" class=\"dataframe\">\n",
       "  <thead>\n",
       "    <tr style=\"text-align: right;\">\n",
       "      <th></th>\n",
       "      <th>word</th>\n",
       "      <th>count</th>\n",
       "    </tr>\n",
       "  </thead>\n",
       "  <tbody>\n",
       "    <tr>\n",
       "      <th>0</th>\n",
       "      <td>https co</td>\n",
       "      <td>2156</td>\n",
       "    </tr>\n",
       "    <tr>\n",
       "      <th>1</th>\n",
       "      <td>bjp4india bjp4up</td>\n",
       "      <td>607</td>\n",
       "    </tr>\n",
       "    <tr>\n",
       "      <th>2</th>\n",
       "      <td>bjp4up bjp4india</td>\n",
       "      <td>252</td>\n",
       "    </tr>\n",
       "    <tr>\n",
       "      <th>3</th>\n",
       "      <td>narendramodi jpnadda</td>\n",
       "      <td>249</td>\n",
       "    </tr>\n",
       "    <tr>\n",
       "      <th>4</th>\n",
       "      <td>jpnadda myogiadityanath</td>\n",
       "      <td>210</td>\n",
       "    </tr>\n",
       "    <tr>\n",
       "      <th>5</th>\n",
       "      <td>idharampalsingh bhupendraupbjp</td>\n",
       "      <td>200</td>\n",
       "    </tr>\n",
       "    <tr>\n",
       "      <th>6</th>\n",
       "      <td>भक मन</td>\n",
       "      <td>190</td>\n",
       "    </tr>\n",
       "    <tr>\n",
       "      <th>7</th>\n",
       "      <td>rssorg narendramodi</td>\n",
       "      <td>189</td>\n",
       "    </tr>\n",
       "    <tr>\n",
       "      <th>8</th>\n",
       "      <td>bjp4india https</td>\n",
       "      <td>187</td>\n",
       "    </tr>\n",
       "    <tr>\n",
       "      <th>9</th>\n",
       "      <td>sunilbansalbjp bjp4india</td>\n",
       "      <td>172</td>\n",
       "    </tr>\n",
       "    <tr>\n",
       "      <th>10</th>\n",
       "      <td>अध यक</td>\n",
       "      <td>156</td>\n",
       "    </tr>\n",
       "    <tr>\n",
       "      <th>11</th>\n",
       "      <td>aksharmabharat rssorg</td>\n",
       "      <td>153</td>\n",
       "    </tr>\n",
       "    <tr>\n",
       "      <th>12</th>\n",
       "      <td>उत तर</td>\n",
       "      <td>152</td>\n",
       "    </tr>\n",
       "    <tr>\n",
       "      <th>13</th>\n",
       "      <td>narendramodi myogiadityanath</td>\n",
       "      <td>150</td>\n",
       "    </tr>\n",
       "    <tr>\n",
       "      <th>14</th>\n",
       "      <td>bhupendraupbjp sunilbansalbjp</td>\n",
       "      <td>144</td>\n",
       "    </tr>\n",
       "    <tr>\n",
       "      <th>15</th>\n",
       "      <td>myogiadityanath idharampalsingh</td>\n",
       "      <td>138</td>\n",
       "    </tr>\n",
       "    <tr>\n",
       "      <th>16</th>\n",
       "      <td>upgovt pmoindia</td>\n",
       "      <td>124</td>\n",
       "    </tr>\n",
       "    <tr>\n",
       "      <th>17</th>\n",
       "      <td>तर रद</td>\n",
       "      <td>124</td>\n",
       "    </tr>\n",
       "    <tr>\n",
       "      <th>18</th>\n",
       "      <td>jpnadda amitshah</td>\n",
       "      <td>122</td>\n",
       "    </tr>\n",
       "    <tr>\n",
       "      <th>19</th>\n",
       "      <td>रध नम</td>\n",
       "      <td>121</td>\n",
       "    </tr>\n",
       "  </tbody>\n",
       "</table>\n",
       "</div>"
      ],
      "text/plain": [
       "                               word  count\n",
       "0                          https co   2156\n",
       "1                  bjp4india bjp4up    607\n",
       "2                  bjp4up bjp4india    252\n",
       "3              narendramodi jpnadda    249\n",
       "4           jpnadda myogiadityanath    210\n",
       "5    idharampalsingh bhupendraupbjp    200\n",
       "6                             भक मन    190\n",
       "7               rssorg narendramodi    189\n",
       "8                   bjp4india https    187\n",
       "9          sunilbansalbjp bjp4india    172\n",
       "10                            अध यक    156\n",
       "11            aksharmabharat rssorg    153\n",
       "12                            उत तर    152\n",
       "13     narendramodi myogiadityanath    150\n",
       "14    bhupendraupbjp sunilbansalbjp    144\n",
       "15  myogiadityanath idharampalsingh    138\n",
       "16                  upgovt pmoindia    124\n",
       "17                            तर रद    124\n",
       "18                 jpnadda amitshah    122\n",
       "19                            रध नम    121"
      ]
     },
     "execution_count": 23,
     "metadata": {},
     "output_type": "execute_result"
    }
   ],
   "source": [
    "get_n_grams(df.content,2,2,20)"
   ]
  },
  {
   "cell_type": "code",
   "execution_count": 24,
   "id": "8ed4b653",
   "metadata": {},
   "outputs": [
    {
     "data": {
      "image/png": "[encoded data removed]",
      "text/plain": [
       "<Figure size 720x360 with 1 Axes>"
      ]
     },
     "metadata": {
      "needs_background": "light"
     },
     "output_type": "display_data"
    },
    {
     "data": {
      "text/html": [
       "<div>\n",
       "<style scoped>\n",
       "    .dataframe tbody tr th:only-of-type {\n",
       "        vertical-align: middle;\n",
       "    }\n",
       "\n",
       "    .dataframe tbody tr th {\n",
       "        vertical-align: top;\n",
       "    }\n",
       "\n",
       "    .dataframe thead th {\n",
       "        text-align: right;\n",
       "    }\n",
       "</style>\n",
       "<table border=\"1\" class=\"dataframe\">\n",
       "  <thead>\n",
       "    <tr style=\"text-align: right;\">\n",
       "      <th></th>\n",
       "      <th>word</th>\n",
       "      <th>count</th>\n",
       "    </tr>\n",
       "  </thead>\n",
       "  <tbody>\n",
       "    <tr>\n",
       "      <th>0</th>\n",
       "      <td>bjp4india</td>\n",
       "      <td>2069</td>\n",
       "    </tr>\n",
       "    <tr>\n",
       "      <th>1</th>\n",
       "      <td>कर</td>\n",
       "      <td>1591</td>\n",
       "    </tr>\n",
       "    <tr>\n",
       "      <th>2</th>\n",
       "      <td>bjp</td>\n",
       "      <td>1460</td>\n",
       "    </tr>\n",
       "    <tr>\n",
       "      <th>3</th>\n",
       "      <td>पर</td>\n",
       "      <td>1273</td>\n",
       "    </tr>\n",
       "    <tr>\n",
       "      <th>4</th>\n",
       "      <td>bjp4up</td>\n",
       "      <td>1225</td>\n",
       "    </tr>\n",
       "    <tr>\n",
       "      <th>5</th>\n",
       "      <td>narendramodi</td>\n",
       "      <td>1050</td>\n",
       "    </tr>\n",
       "    <tr>\n",
       "      <th>6</th>\n",
       "      <td>myogiadityanath</td>\n",
       "      <td>1046</td>\n",
       "    </tr>\n",
       "    <tr>\n",
       "      <th>7</th>\n",
       "      <td>रह</td>\n",
       "      <td>910</td>\n",
       "    </tr>\n",
       "    <tr>\n",
       "      <th>8</th>\n",
       "      <td>और</td>\n",
       "      <td>873</td>\n",
       "    </tr>\n",
       "    <tr>\n",
       "      <th>9</th>\n",
       "      <td>नह</td>\n",
       "      <td>796</td>\n",
       "    </tr>\n",
       "    <tr>\n",
       "      <th>10</th>\n",
       "      <td>pmoindia</td>\n",
       "      <td>689</td>\n",
       "    </tr>\n",
       "    <tr>\n",
       "      <th>11</th>\n",
       "      <td>jpnadda</td>\n",
       "      <td>657</td>\n",
       "    </tr>\n",
       "    <tr>\n",
       "      <th>12</th>\n",
       "      <td>रत</td>\n",
       "      <td>617</td>\n",
       "    </tr>\n",
       "    <tr>\n",
       "      <th>13</th>\n",
       "      <td>मह</td>\n",
       "      <td>571</td>\n",
       "    </tr>\n",
       "    <tr>\n",
       "      <th>14</th>\n",
       "      <td>यक</td>\n",
       "      <td>556</td>\n",
       "    </tr>\n",
       "    <tr>\n",
       "      <th>15</th>\n",
       "      <td>सम</td>\n",
       "      <td>541</td>\n",
       "    </tr>\n",
       "    <tr>\n",
       "      <th>16</th>\n",
       "      <td>amitshah</td>\n",
       "      <td>526</td>\n",
       "    </tr>\n",
       "    <tr>\n",
       "      <th>17</th>\n",
       "      <td>hai</td>\n",
       "      <td>457</td>\n",
       "    </tr>\n",
       "    <tr>\n",
       "      <th>18</th>\n",
       "      <td>bhupendraupbjp</td>\n",
       "      <td>443</td>\n",
       "    </tr>\n",
       "    <tr>\n",
       "      <th>19</th>\n",
       "      <td>जन</td>\n",
       "      <td>430</td>\n",
       "    </tr>\n",
       "  </tbody>\n",
       "</table>\n",
       "</div>"
      ],
      "text/plain": [
       "               word  count\n",
       "0         bjp4india   2069\n",
       "1                कर   1591\n",
       "2               bjp   1460\n",
       "3                पर   1273\n",
       "4            bjp4up   1225\n",
       "5      narendramodi   1050\n",
       "6   myogiadityanath   1046\n",
       "7                रह    910\n",
       "8                और    873\n",
       "9                नह    796\n",
       "10         pmoindia    689\n",
       "11          jpnadda    657\n",
       "12               रत    617\n",
       "13               मह    571\n",
       "14               यक    556\n",
       "15               सम    541\n",
       "16         amitshah    526\n",
       "17              hai    457\n",
       "18   bhupendraupbjp    443\n",
       "19               जन    430"
      ]
     },
     "execution_count": 24,
     "metadata": {},
     "output_type": "execute_result"
    }
   ],
   "source": [
    "get_n_grams(df.clean,1,1,20)"
   ]
  },
  {
   "cell_type": "code",
   "execution_count": 27,
   "id": "0981eb8c",
   "metadata": {},
   "outputs": [
    {
     "data": {
      "image/png": "[encoded data removed]",
      "text/plain": [
       "<Figure size 720x360 with 1 Axes>"
      ]
     },
     "metadata": {
      "needs_background": "light"
     },
     "output_type": "display_data"
    },
    {
     "data": {
      "text/html": [
       "<div>\n",
       "<style scoped>\n",
       "    .dataframe tbody tr th:only-of-type {\n",
       "        vertical-align: middle;\n",
       "    }\n",
       "\n",
       "    .dataframe tbody tr th {\n",
       "        vertical-align: top;\n",
       "    }\n",
       "\n",
       "    .dataframe thead th {\n",
       "        text-align: right;\n",
       "    }\n",
       "</style>\n",
       "<table border=\"1\" class=\"dataframe\">\n",
       "  <thead>\n",
       "    <tr style=\"text-align: right;\">\n",
       "      <th></th>\n",
       "      <th>word</th>\n",
       "      <th>count</th>\n",
       "    </tr>\n",
       "  </thead>\n",
       "  <tbody>\n",
       "    <tr>\n",
       "      <th>0</th>\n",
       "      <td>bjp4india bjp4up</td>\n",
       "      <td>607</td>\n",
       "    </tr>\n",
       "    <tr>\n",
       "      <th>1</th>\n",
       "      <td>bjp4up bjp4india</td>\n",
       "      <td>252</td>\n",
       "    </tr>\n",
       "    <tr>\n",
       "      <th>2</th>\n",
       "      <td>narendramodi jpnadda</td>\n",
       "      <td>249</td>\n",
       "    </tr>\n",
       "    <tr>\n",
       "      <th>3</th>\n",
       "      <td>jpnadda myogiadityanath</td>\n",
       "      <td>210</td>\n",
       "    </tr>\n",
       "    <tr>\n",
       "      <th>4</th>\n",
       "      <td>idharampalsingh bhupendraupbjp</td>\n",
       "      <td>200</td>\n",
       "    </tr>\n",
       "    <tr>\n",
       "      <th>5</th>\n",
       "      <td>भक मन</td>\n",
       "      <td>190</td>\n",
       "    </tr>\n",
       "    <tr>\n",
       "      <th>6</th>\n",
       "      <td>rssorg narendramodi</td>\n",
       "      <td>189</td>\n",
       "    </tr>\n",
       "    <tr>\n",
       "      <th>7</th>\n",
       "      <td>sunilbansalbjp bjp4india</td>\n",
       "      <td>172</td>\n",
       "    </tr>\n",
       "    <tr>\n",
       "      <th>8</th>\n",
       "      <td>अध यक</td>\n",
       "      <td>156</td>\n",
       "    </tr>\n",
       "    <tr>\n",
       "      <th>9</th>\n",
       "      <td>aksharmabharat rssorg</td>\n",
       "      <td>153</td>\n",
       "    </tr>\n",
       "    <tr>\n",
       "      <th>10</th>\n",
       "      <td>उत तर</td>\n",
       "      <td>150</td>\n",
       "    </tr>\n",
       "    <tr>\n",
       "      <th>11</th>\n",
       "      <td>narendramodi myogiadityanath</td>\n",
       "      <td>150</td>\n",
       "    </tr>\n",
       "    <tr>\n",
       "      <th>12</th>\n",
       "      <td>bhupendraupbjp sunilbansalbjp</td>\n",
       "      <td>144</td>\n",
       "    </tr>\n",
       "    <tr>\n",
       "      <th>13</th>\n",
       "      <td>myogiadityanath idharampalsingh</td>\n",
       "      <td>138</td>\n",
       "    </tr>\n",
       "    <tr>\n",
       "      <th>14</th>\n",
       "      <td>upgovt pmoindia</td>\n",
       "      <td>124</td>\n",
       "    </tr>\n",
       "    <tr>\n",
       "      <th>15</th>\n",
       "      <td>तर रद</td>\n",
       "      <td>124</td>\n",
       "    </tr>\n",
       "    <tr>\n",
       "      <th>16</th>\n",
       "      <td>jpnadda amitshah</td>\n",
       "      <td>122</td>\n",
       "    </tr>\n",
       "    <tr>\n",
       "      <th>17</th>\n",
       "      <td>रध नम</td>\n",
       "      <td>122</td>\n",
       "    </tr>\n",
       "    <tr>\n",
       "      <th>18</th>\n",
       "      <td>कर रह</td>\n",
       "      <td>118</td>\n",
       "    </tr>\n",
       "    <tr>\n",
       "      <th>19</th>\n",
       "      <td>pmoindia bjp4india</td>\n",
       "      <td>117</td>\n",
       "    </tr>\n",
       "  </tbody>\n",
       "</table>\n",
       "</div>"
      ],
      "text/plain": [
       "                               word  count\n",
       "0                  bjp4india bjp4up    607\n",
       "1                  bjp4up bjp4india    252\n",
       "2              narendramodi jpnadda    249\n",
       "3           jpnadda myogiadityanath    210\n",
       "4    idharampalsingh bhupendraupbjp    200\n",
       "5                             भक मन    190\n",
       "6               rssorg narendramodi    189\n",
       "7          sunilbansalbjp bjp4india    172\n",
       "8                             अध यक    156\n",
       "9             aksharmabharat rssorg    153\n",
       "10                            उत तर    150\n",
       "11     narendramodi myogiadityanath    150\n",
       "12    bhupendraupbjp sunilbansalbjp    144\n",
       "13  myogiadityanath idharampalsingh    138\n",
       "14                  upgovt pmoindia    124\n",
       "15                            तर रद    124\n",
       "16                 jpnadda amitshah    122\n",
       "17                            रध नम    122\n",
       "18                            कर रह    118\n",
       "19               pmoindia bjp4india    117"
      ]
     },
     "execution_count": 27,
     "metadata": {},
     "output_type": "execute_result"
    }
   ],
   "source": [
    "get_n_grams(df.clean,2,2,20)"
   ]
  },
  {
   "cell_type": "code",
   "execution_count": 10,
   "id": "99fbcaa3",
   "metadata": {},
   "outputs": [],
   "source": [
    " train_text=df.clean\n",
    "train_on=df.label"
   ]
  },
  {
   "cell_type": "code",
   "execution_count": 11,
   "id": "44d8fbf4",
   "metadata": {},
   "outputs": [],
   "source": [
    "df2=pd.read_csv('generic_sentiment_dataset_10k.csv')"
   ]
  },
  {
   "cell_type": "code",
   "execution_count": 19,
   "id": "188e0259",
   "metadata": {},
   "outputs": [
    {
     "data": {
      "text/plain": [
       "(10000, 3)"
      ]
     },
     "execution_count": 19,
     "metadata": {},
     "output_type": "execute_result"
    }
   ],
   "source": [
    "\n",
    "df2.shape"
   ]
  },
  {
   "cell_type": "code",
   "execution_count": 20,
   "id": "e17b3bd5",
   "metadata": {},
   "outputs": [
    {
     "data": {
      "text/html": [
       "<div>\n",
       "<style scoped>\n",
       "    .dataframe tbody tr th:only-of-type {\n",
       "        vertical-align: middle;\n",
       "    }\n",
       "\n",
       "    .dataframe tbody tr th {\n",
       "        vertical-align: top;\n",
       "    }\n",
       "\n",
       "    .dataframe thead th {\n",
       "        text-align: right;\n",
       "    }\n",
       "</style>\n",
       "<table border=\"1\" class=\"dataframe\">\n",
       "  <thead>\n",
       "    <tr style=\"text-align: right;\">\n",
       "      <th></th>\n",
       "      <th>sentiment</th>\n",
       "      <th>text</th>\n",
       "      <th>label</th>\n",
       "    </tr>\n",
       "  </thead>\n",
       "  <tbody>\n",
       "    <tr>\n",
       "      <th>0</th>\n",
       "      <td>neutral</td>\n",
       "      <td>Camera good</td>\n",
       "      <td>1</td>\n",
       "    </tr>\n",
       "    <tr>\n",
       "      <th>1</th>\n",
       "      <td>negative</td>\n",
       "      <td>OMG! I KNOW!  I give myself a stroke everytim...</td>\n",
       "      <td>0</td>\n",
       "    </tr>\n",
       "    <tr>\n",
       "      <th>2</th>\n",
       "      <td>neutral</td>\n",
       "      <td>Good</td>\n",
       "      <td>1</td>\n",
       "    </tr>\n",
       "    <tr>\n",
       "      <th>3</th>\n",
       "      <td>positive</td>\n",
       "      <td>The company recorded revenues of E658 .1 milli...</td>\n",
       "      <td>2</td>\n",
       "    </tr>\n",
       "    <tr>\n",
       "      <th>4</th>\n",
       "      <td>positive</td>\n",
       "      <td>All is good</td>\n",
       "      <td>2</td>\n",
       "    </tr>\n",
       "  </tbody>\n",
       "</table>\n",
       "</div>"
      ],
      "text/plain": [
       "  sentiment                                               text  label\n",
       "0   neutral                                        Camera good      1\n",
       "1  negative   OMG! I KNOW!  I give myself a stroke everytim...      0\n",
       "2   neutral                                               Good      1\n",
       "3  positive  The company recorded revenues of E658 .1 milli...      2\n",
       "4  positive                                        All is good      2"
      ]
     },
     "execution_count": 20,
     "metadata": {},
     "output_type": "execute_result"
    }
   ],
   "source": [
    "df2.head()"
   ]
  },
  {
   "cell_type": "code",
   "execution_count": 12,
   "id": "31df7da1",
   "metadata": {},
   "outputs": [],
   "source": [
    "df2['clean']=df2['text'].apply(preprocess_text)\n",
    "df2.drop(df2[(df2['label']==1)].index, inplace=True,axis=0)"
   ]
  },
  {
   "cell_type": "code",
   "execution_count": 13,
   "id": "cb89a4dc",
   "metadata": {},
   "outputs": [],
   "source": [
    "test_text=df2.clean\n",
    "test_on=df2.label"
   ]
  },
  {
   "cell_type": "code",
   "execution_count": 14,
   "id": "5864fecc",
   "metadata": {},
   "outputs": [],
   "source": [
    "from sklearn.pipeline import Pipeline"
   ]
  },
  {
   "cell_type": "code",
   "execution_count": 15,
   "id": "c59a9288",
   "metadata": {},
   "outputs": [],
   "source": [
    "def diffmodel(mod,train_text,train_on,test_text,test_on):\n",
    "    try:\n",
    "        model=Pipeline([('vectorizer',TfidfVectorizer()),('classifier',mod)])\n",
    "        model.fit(train_text,train_on)\n",
    "        prediction=model.predict(test_text)\n",
    "        print(model['classifier'])\n",
    "        print(\"Accuracy : \", accuracy_score(prediction,test_on))\n",
    "        print(\"precision : \", precision_score(prediction,test_on,average='weighted'))\n",
    "    except:\n",
    "        print('can\\'t',mod)"
   ]
  },
  {
   "cell_type": "code",
   "execution_count": null,
   "id": "8fe605d7",
   "metadata": {},
   "outputs": [],
   "source": []
  },
  {
   "cell_type": "code",
   "execution_count": null,
   "id": "265a31f7",
   "metadata": {},
   "outputs": [],
   "source": []
  },
  {
   "cell_type": "code",
   "execution_count": null,
   "id": "d4a67913",
   "metadata": {},
   "outputs": [],
   "source": []
  },
  {
   "cell_type": "code",
   "execution_count": 28,
   "id": "d92596c0",
   "metadata": {},
   "outputs": [
    {
     "name": "stdout",
     "output_type": "stream",
     "text": [
      "NEGATIVE\n",
      "POSITIVE\n",
      "POSITIVE\n",
      "POSITIVE\n",
      "NEGATIVE\n",
      "NEGATIVE\n",
      "NEGATIVE\n"
     ]
    }
   ],
   "source": [
    "example = ['i m worst',\n",
    "           'i m okay',\n",
    "           'what is this phone',\n",
    "           'battery life is good',\n",
    "           'battery life is bad',\n",
    "           'Battery Problem After 05 Month',\n",
    "           'Phone stoped working after 5 months'\n",
    "          ]\n",
    "change=np.vectorize(preprocess_text)\n",
    "example=change(example)\n",
    "res=model.predict(example)\n",
    "for i in res:\n",
    "    if (i==0):\n",
    "        print('NEGATIVE')\n",
    "    else: \n",
    "        print('POSITIVE')"
   ]
  },
  {
   "cell_type": "code",
   "execution_count": 27,
   "id": "1d58a6e2",
   "metadata": {},
   "outputs": [],
   "source": [
    "models = [LogisticRegression(),SVC()]"
   ]
  },
  {
   "cell_type": "code",
   "execution_count": 18,
   "id": "dcc9a82a",
   "metadata": {},
   "outputs": [],
   "source": [
    "from sklearn.ensemble import RandomForestClassifier, ExtraTreesClassifier\n",
    "from sklearn.neighbors import KNeighborsClassifier"
   ]
  },
  {
   "cell_type": "code",
   "execution_count": null,
   "id": "74ca3a0b",
   "metadata": {},
   "outputs": [
    {
     "name": "stderr",
     "output_type": "stream",
     "text": [
      " 50%|██████████████████████████████████████████                                          | 1/2 [00:08<00:08,  8.38s/it]"
     ]
    },
    {
     "name": "stdout",
     "output_type": "stream",
     "text": [
      "LogisticRegression()\n",
      "Accuracy :  0.8957995762183721\n",
      "precision :  0.8966375789618328\n"
     ]
    }
   ],
   "source": [
    "for mod in tqdm(models):\n",
    "    diffmodel(mod,train_text,train_on,test_text,test_on)"
   ]
  },
  {
   "cell_type": "code",
   "execution_count": 28,
   "id": "6d619b75",
   "metadata": {},
   "outputs": [],
   "source": [
    "from tqdm import tqdm"
   ]
  },
  {
   "cell_type": "code",
   "execution_count": 16,
   "id": "3faf4297",
   "metadata": {},
   "outputs": [
    {
     "name": "stdout",
     "output_type": "stream",
     "text": [
      "LogisticRegression()\n",
      "Accuracy :  0.8957995762183721\n",
      "precision :  0.8966375789618328\n"
     ]
    }
   ],
   "source": [
    "diffmodel(LogisticRegression(),train_text,train_on,test_text,test_on)"
   ]
  },
  {
   "cell_type": "code",
   "execution_count": 17,
   "id": "522d4c96",
   "metadata": {},
   "outputs": [
    {
     "name": "stdout",
     "output_type": "stream",
     "text": [
      "SVC()\n",
      "Accuracy :  0.9037766421538078\n",
      "precision :  0.9043147977621473\n"
     ]
    }
   ],
   "source": [
    "diffmodel(SVC(),train_text,train_on,test_text,test_on)"
   ]
  },
  {
   "cell_type": "code",
   "execution_count": 19,
   "id": "85eda5ed",
   "metadata": {},
   "outputs": [
    {
     "name": "stdout",
     "output_type": "stream",
     "text": [
      "ExtraTreesClassifier()\n",
      "Accuracy :  0.8955502929078898\n",
      "precision :  0.8971697335980305\n"
     ]
    }
   ],
   "source": [
    " diffmodel(ExtraTreesClassifier(),train_text,train_on,test_text,test_on)"
   ]
  },
  {
   "cell_type": "code",
   "execution_count": 20,
   "id": "d227b0c1",
   "metadata": {},
   "outputs": [
    {
     "name": "stdout",
     "output_type": "stream",
     "text": [
      "KNeighborsClassifier()\n",
      "Accuracy :  0.722672317088371\n",
      "precision :  0.8285587002164666\n"
     ]
    }
   ],
   "source": [
    " diffmodel(KNeighborsClassifier(),train_text,train_on,test_text,test_on)"
   ]
  },
  {
   "cell_type": "code",
   "execution_count": 21,
   "id": "18e57030",
   "metadata": {},
   "outputs": [
    {
     "name": "stdout",
     "output_type": "stream",
     "text": [
      "RandomForestClassifier()\n",
      "Accuracy :  0.8950517262869251\n",
      "precision :  0.8965397403631254\n"
     ]
    }
   ],
   "source": [
    "diffmodel(RandomForestClassifier(),train_text,train_on,test_text,test_on)"
   ]
  },
  {
   "cell_type": "code",
   "execution_count": null,
   "id": "29b039bb",
   "metadata": {},
   "outputs": [],
   "source": [
    " "
   ]
  }
 ],
 "metadata": {
  "kernelspec": {
   "display_name": "Python 3 (ipykernel)",
   "language": "python",
   "name": "python3"
  },
  "language_info": {
   "codemirror_mode": {
    "name": "ipython",
    "version": 3
   },
   "file_extension": ".py",
   "mimetype": "text/x-python",
   "name": "python",
   "nbconvert_exporter": "python",
   "pygments_lexer": "ipython3",
   "version": "3.9.12"
  }
 },
 "nbformat": 4,
 "nbformat_minor": 5
}
